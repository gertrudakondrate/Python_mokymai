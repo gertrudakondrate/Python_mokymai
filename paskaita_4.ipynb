{
 "cells": [
  {
   "cell_type": "code",
   "execution_count": null,
   "metadata": {},
   "outputs": [],
   "source": []
  },
  {
   "cell_type": "markdown",
   "metadata": {},
   "source": [
    "# FUNCTIONS"
   ]
  },
  {
   "cell_type": "code",
   "execution_count": 1,
   "metadata": {},
   "outputs": [],
   "source": [
    "# apsirasome veiksmus. BUTINAI JA PALEISTI, kad issisaugotu atminty\n",
    "def mano_funkcija():\n",
    "    print('hello world')"
   ]
  },
  {
   "cell_type": "code",
   "execution_count": 2,
   "metadata": {},
   "outputs": [
    {
     "name": "stdout",
     "output_type": "stream",
     "text": [
      "hello world\n"
     ]
    }
   ],
   "source": [
    "# gauname atsakyma ekrane\n",
    "mano_funkcija()"
   ]
  },
  {
   "cell_type": "code",
   "execution_count": 7,
   "metadata": {},
   "outputs": [],
   "source": [
    "def mano_funkcija_2(name):\n",
    "    print(f'Hello {name}, how is your day?')"
   ]
  },
  {
   "cell_type": "code",
   "execution_count": 8,
   "metadata": {},
   "outputs": [
    {
     "name": "stdout",
     "output_type": "stream",
     "text": [
      "Hello Tomas, how is your day?\n",
      "Hello Helena, how is your day?\n",
      "Hello Ernesta, how is your day?\n"
     ]
    }
   ],
   "source": [
    "mano_funkcija_2('Tomas')\n",
    "mano_funkcija_2('Helena')\n",
    "mano_funkcija_2('Ernesta')"
   ]
  },
  {
   "cell_type": "code",
   "execution_count": 9,
   "metadata": {},
   "outputs": [],
   "source": [
    "def subtract(num_1, num_2):\n",
    "    print(num_1 - num_2)"
   ]
  },
  {
   "cell_type": "code",
   "execution_count": 12,
   "metadata": {},
   "outputs": [
    {
     "name": "stdout",
     "output_type": "stream",
     "text": [
      "7\n",
      "7\n",
      "-7\n"
     ]
    }
   ],
   "source": [
    "subtract(12,5) #eiliskumas svarbu. Pagal num_1 ir num_2 pozicija bus. Galime nurodyti ir konkrecias pozicijas\n",
    "subtract(num_1=12, num_2=5)\n",
    "subtract(num_1=5, num_2=12)"
   ]
  },
  {
   "cell_type": "code",
   "execution_count": 29,
   "metadata": {},
   "outputs": [],
   "source": [
    "def subtract(num_1, num_2):\n",
    "    print(num_1 - num_2)\n",
    "    return num_1 - num_2"
   ]
  },
  {
   "cell_type": "code",
   "execution_count": 16,
   "metadata": {},
   "outputs": [
    {
     "name": "stdout",
     "output_type": "stream",
     "text": [
      "-7\n",
      "-7\n",
      "-7\n"
     ]
    }
   ],
   "source": [
    "subtract(num_1=5, num_2=12)\n",
    "result = subtract(num_1=5, num_2=12) #result gaunasi/susikuria atskiras kintamasis\n",
    "print(result)"
   ]
  },
  {
   "cell_type": "code",
   "execution_count": 17,
   "metadata": {},
   "outputs": [],
   "source": [
    "# optional arguments\n",
    "def add_number(num_1, num_2=10): \n",
    "    return num_1 + num_2"
   ]
  },
  {
   "cell_type": "code",
   "execution_count": 20,
   "metadata": {},
   "outputs": [
    {
     "name": "stdout",
     "output_type": "stream",
     "text": [
      "23\n",
      "13\n"
     ]
    }
   ],
   "source": [
    "print(add_number(3, 20)) \n",
    "print(add_number(3)) # galiu nenurodyti antros reiksmes, priskirs 10 kaip numatyta"
   ]
  },
  {
   "cell_type": "code",
   "execution_count": 26,
   "metadata": {},
   "outputs": [
    {
     "name": "stdout",
     "output_type": "stream",
     "text": [
      "5 6 1 20 -10\n"
     ]
    }
   ],
   "source": [
    "print(5, 6, 1, 20, -10)"
   ]
  },
  {
   "cell_type": "code",
   "execution_count": 31,
   "metadata": {},
   "outputs": [],
   "source": [
    "def add_all_numbers(*args): # paima visas reiksmes ir sudeda jas i sarasa\n",
    "    print(args)\n",
    "    suma = 0 #tarpinis rezultatas\n",
    "    for number in args:\n",
    "        suma += number\n",
    "    return suma"
   ]
  },
  {
   "cell_type": "code",
   "execution_count": 32,
   "metadata": {},
   "outputs": [
    {
     "name": "stdout",
     "output_type": "stream",
     "text": [
      "(5, 6, 1, 20, -10)\n"
     ]
    },
    {
     "data": {
      "text/plain": [
       "22"
      ]
     },
     "execution_count": 32,
     "metadata": {},
     "output_type": "execute_result"
    }
   ],
   "source": [
    "add_all_numbers(5, 6, 1, 20, -10)"
   ]
  },
  {
   "cell_type": "code",
   "execution_count": 33,
   "metadata": {},
   "outputs": [],
   "source": [
    "# negeras pvz (funkcijoj turi buti vienodo tipo kintamieji)\n",
    "def bad_function(arg_1,arg_2,arg_3):\n",
    "    if arg_1 >5:\n",
    "        return True\n",
    "    elif arg_2 <0:\n",
    "        return 10\n",
    "    else:\n",
    "        return 100\n",
    "    "
   ]
  },
  {
   "cell_type": "code",
   "execution_count": 45,
   "metadata": {},
   "outputs": [],
   "source": [
    "def say_hello_2(name, num_1, num_2=10,**kwargs): #keywords arguments\n",
    "    print(f'hello {name}')\n",
    "    print(num_1 + num_2)\n",
    "    #print(kwargs)\n",
    "    for key, value in kwargs.items():\n",
    "        print(f'key {key} have a value of {value}')"
   ]
  },
  {
   "cell_type": "code",
   "execution_count": 35,
   "metadata": {},
   "outputs": [
    {
     "name": "stdout",
     "output_type": "stream",
     "text": [
      "hello Darius\n",
      "15\n",
      "{}\n"
     ]
    }
   ],
   "source": [
    "say_hello_2('Darius',5)"
   ]
  },
  {
   "cell_type": "code",
   "execution_count": 47,
   "metadata": {},
   "outputs": [
    {
     "name": "stdout",
     "output_type": "stream",
     "text": [
      "hello Darius\n",
      "15\n",
      "key surname have a value of Grigaliunas\n",
      "key city have a value of London\n"
     ]
    }
   ],
   "source": [
    "say_hello_2('Darius',5, surname='Grigaliunas', city='London')"
   ]
  },
  {
   "cell_type": "code",
   "execution_count": 49,
   "metadata": {},
   "outputs": [],
   "source": [
    "def mano_funkcija_2(name):\n",
    "    \"\"\"\n",
    "    This function says hello to <name>, and asks how are they. Info etc\n",
    "    \"\"\"\n",
    "    # docstring. Apie ka funkcija, naudinga perduodant kitam zmogui, kad butu aisku kas te kaip\n",
    "    print(f'Hello {name}, how is your day?')"
   ]
  },
  {
   "cell_type": "code",
   "execution_count": null,
   "metadata": {},
   "outputs": [],
   "source": [
    "# galima rasyti ir taip jeigu daug argumentu\n",
    "def dummy_function(\n",
    "    argument_1,\n",
    "    argument_2,\n",
    "    argument_3,\n",
    "    argument_argument=10\n",
    "):\n",
    "\n"
   ]
  },
  {
   "cell_type": "code",
   "execution_count": 1,
   "metadata": {},
   "outputs": [
    {
     "name": "stdout",
     "output_type": "stream",
     "text": [
      "bye\n"
     ]
    }
   ],
   "source": [
    "def bye():\n",
    "    print('bye')\n",
    "bye()"
   ]
  },
  {
   "cell_type": "code",
   "execution_count": 30,
   "metadata": {},
   "outputs": [],
   "source": [
    "# Deklaruokite funkciją kuri priima du skaičius, jeigu skaičių suma lyginė, grąžinkite jų sandaugą, jei ne, padalinkite skaičius vieną iš kito \n",
    "def funkcija_vienas(num_1,num_2):\n",
    "    if (num_1+num_2) % 2 == 0:\n",
    "        return num_1*num_2\n",
    "    else:\n",
    "        return num_1/num_2\n"
   ]
  },
  {
   "cell_type": "code",
   "execution_count": 5,
   "metadata": {},
   "outputs": [
    {
     "name": "stdout",
     "output_type": "stream",
     "text": [
      "12\n",
      "2.0\n"
     ]
    }
   ],
   "source": [
    "print(funkcija_vienas(2,6))\n",
    "print(funkcija_vienas(10,5))"
   ]
  },
  {
   "cell_type": "code",
   "execution_count": 6,
   "metadata": {},
   "outputs": [
    {
     "name": "stdout",
     "output_type": "stream",
     "text": [
      "Darius\n"
     ]
    }
   ],
   "source": [
    "#Deklaruokite  funkciją, kuri priima vieną string tipo kintamąjį. Priskirkitę funkciją naujam kintamajam ir iškvieskite ją per naująjį kintamąjį\n",
    "def my_func(name):\n",
    "    print(name)\n",
    "\n",
    "new_func = my_func #priskiriame naujo tipo funkcija\n",
    "new_func('Darius')"
   ]
  },
  {
   "cell_type": "code",
   "execution_count": 26,
   "metadata": {},
   "outputs": [],
   "source": [
    "# Kiek skaiciu dalinasi nuo 1 iki 10 imtinai?\n",
    "def mano_funkci(*args): #args - argumentas\n",
    "    print(args)\n",
    "    result_disc = {}\n",
    "    for number in range(1,11):\n",
    "        result_disc[number] = 0\n",
    "        for arg in args:\n",
    "            if arg % number == 0:\n",
    "                result_disc[number] +=1\n",
    "\n",
    "    return result_disc \n",
    "    "
   ]
  },
  {
   "cell_type": "code",
   "execution_count": 28,
   "metadata": {},
   "outputs": [
    {
     "name": "stdout",
     "output_type": "stream",
     "text": [
      "(1, 2, 65, 30)\n"
     ]
    },
    {
     "data": {
      "text/plain": [
       "{1: 4, 2: 2, 3: 1, 4: 0, 5: 2, 6: 1, 7: 0, 8: 0, 9: 0, 10: 1}"
      ]
     },
     "execution_count": 28,
     "metadata": {},
     "output_type": "execute_result"
    }
   ],
   "source": [
    "mano_funkci(1,2,65,30)"
   ]
  },
  {
   "cell_type": "markdown",
   "metadata": {},
   "source": [
    "# LAMBDA"
   ]
  },
  {
   "cell_type": "code",
   "execution_count": 72,
   "metadata": {},
   "outputs": [
    {
     "data": {
      "text/plain": [
       "['hello', ' sad', ' dsds', ' add']"
      ]
     },
     "execution_count": 72,
     "metadata": {},
     "output_type": "execute_result"
    }
   ],
   "source": [
    "'hello, sad, dsds, add'.split(',') #atskiria string'a nurodant per ka"
   ]
  },
  {
   "cell_type": "code",
   "execution_count": 78,
   "metadata": {},
   "outputs": [],
   "source": [
    "# trumpa funkcija, kuri neturi pavadinimo. \n",
    "\n",
    "text = \"Hello world\"\n",
    "\n",
    "def my_split(x):\n",
    "    return x.split(' ')\n",
    "\n",
    "my_lambda_split = lambda x: x.split(' ')[0]"
   ]
  },
  {
   "cell_type": "code",
   "execution_count": 79,
   "metadata": {},
   "outputs": [
    {
     "name": "stdout",
     "output_type": "stream",
     "text": [
      "['Hello', 'world']\n",
      "Hello\n"
     ]
    }
   ],
   "source": [
    "print(my_split(text))\n",
    "print(my_lambda_split(text))"
   ]
  },
  {
   "cell_type": "code",
   "execution_count": 82,
   "metadata": {},
   "outputs": [
    {
     "name": "stdout",
     "output_type": "stream",
     "text": [
      "[['one', 1], ['two', 2], ['ten', 10], ['five', 5]]\n",
      "[['one', 1], ['two', 2], ['five', 5], ['ten', 10]]\n"
     ]
    }
   ],
   "source": [
    "my_list = [['one', 1], ['two', 2], ['ten', 10], ['five', 5]]\n",
    "print(my_list)\n",
    "print(sorted(my_list, key=lambda x: x[1])) #nurodome pagal ka rikiuoti sita sarasa"
   ]
  },
  {
   "cell_type": "code",
   "execution_count": 84,
   "metadata": {},
   "outputs": [
    {
     "name": "stdout",
     "output_type": "stream",
     "text": [
      "['a', 'me', 'hello', 'very_long_word']\n"
     ]
    }
   ],
   "source": [
    "my_words = ['a', 'hello', 'me', 'very_long_word']\n",
    "print(sorted(my_words, key=lambda x: len(x)))"
   ]
  },
  {
   "cell_type": "markdown",
   "metadata": {},
   "source": [
    "# WHILE LOOP"
   ]
  },
  {
   "cell_type": "code",
   "execution_count": 87,
   "metadata": {},
   "outputs": [
    {
     "name": "stdout",
     "output_type": "stream",
     "text": [
      "Gertruda\n"
     ]
    }
   ],
   "source": [
    "# naudojame kuomet is anksto nezinome kiek reikes kartu kartoti cikla\n",
    "\n",
    "name = None \n",
    "while name is None:\n",
    "    user_input = input(\"What is your name?\")\n",
    "    if user_input:\n",
    "        name = user_input\n",
    "    else:\n",
    "        print('No input received. Please try again')\n",
    "\n",
    "print('Your name is:', name)"
   ]
  },
  {
   "cell_type": "code",
   "execution_count": 93,
   "metadata": {},
   "outputs": [
    {
     "name": "stdout",
     "output_type": "stream",
     "text": [
      "number {user_input} is smaller than 5 try again\n",
      "7\n"
     ]
    }
   ],
   "source": [
    "while True:\n",
    "    user_input = input(\"anter a number\")\n",
    "    if int(user_input) > 5:\n",
    "        break #sustabdo while cikla\n",
    "    print('number {user_input} is smaller than 5 try again')\n",
    "print(user_input)"
   ]
  }
 ],
 "metadata": {
  "interpreter": {
   "hash": "397704579725e15f5c7cb49fe5f0341eb7531c82d19f2c29d197e8b64ab5776b"
  },
  "kernelspec": {
   "display_name": "Python 3.9.10 64-bit",
   "language": "python",
   "name": "python3"
  },
  "language_info": {
   "codemirror_mode": {
    "name": "ipython",
    "version": 3
   },
   "file_extension": ".py",
   "mimetype": "text/x-python",
   "name": "python",
   "nbconvert_exporter": "python",
   "pygments_lexer": "ipython3",
   "version": "3.9.10"
  },
  "orig_nbformat": 4
 },
 "nbformat": 4,
 "nbformat_minor": 2
}
