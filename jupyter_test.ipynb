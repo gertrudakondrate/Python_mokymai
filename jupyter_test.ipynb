{
 "cells": [
  {
   "cell_type": "code",
   "execution_count": 1,
   "metadata": {},
   "outputs": [
    {
     "name": "stdout",
     "output_type": "stream",
     "text": [
      "The Zen of Python, by Tim Peters\n",
      "\n",
      "Beautiful is better than ugly.\n",
      "Explicit is better than implicit.\n",
      "Simple is better than complex.\n",
      "Complex is better than complicated.\n",
      "Flat is better than nested.\n",
      "Sparse is better than dense.\n",
      "Readability counts.\n",
      "Special cases aren't special enough to break the rules.\n",
      "Although practicality beats purity.\n",
      "Errors should never pass silently.\n",
      "Unless explicitly silenced.\n",
      "In the face of ambiguity, refuse the temptation to guess.\n",
      "There should be one-- and preferably only one --obvious way to do it.\n",
      "Although that way may not be obvious at first unless you're Dutch.\n",
      "Now is better than never.\n",
      "Although never is often better than *right* now.\n",
      "If the implementation is hard to explain, it's a bad idea.\n",
      "If the implementation is easy to explain, it may be a good idea.\n",
      "Namespaces are one honking great idea -- let's do more of those!\n"
     ]
    }
   ],
   "source": [
    "import this\n"
   ]
  },
  {
   "cell_type": "code",
   "execution_count": null,
   "metadata": {},
   "outputs": [],
   "source": []
  },
  {
   "cell_type": "code",
   "execution_count": 5,
   "metadata": {},
   "outputs": [],
   "source": [
    "import this"
   ]
  },
  {
   "cell_type": "code",
   "execution_count": 2,
   "metadata": {},
   "outputs": [],
   "source": [
    "mano_vardas = 'Gertruda'"
   ]
  },
  {
   "cell_type": "code",
   "execution_count": 5,
   "metadata": {},
   "outputs": [
    {
     "name": "stdout",
     "output_type": "stream",
     "text": [
      "Gertruda\n",
      "Hello world\n"
     ]
    }
   ],
   "source": [
    "print(mano_vardas) #komentaras cmd + / NEPERRASYTI STANDARTINIU FUNKCIJU. JEIGU DAROME RESTART - VISI DUOMENYS YRA ATNAUJINAMI\n",
    "print('Hello world')"
   ]
  },
  {
   "cell_type": "code",
   "execution_count": 6,
   "metadata": {},
   "outputs": [
    {
     "data": {
      "text/plain": [
       "str"
      ]
     },
     "execution_count": 6,
     "metadata": {},
     "output_type": "execute_result"
    }
   ],
   "source": [
    "type(mano_vardas)"
   ]
  },
  {
   "cell_type": "code",
   "execution_count": 10,
   "metadata": {},
   "outputs": [
    {
     "name": "stdout",
     "output_type": "stream",
     "text": [
      " \n",
      "kazkoks eiliuotas\n",
      "tekstas\n",
      "\n"
     ]
    }
   ],
   "source": [
    "tekstas = 'hello World'\n",
    "tekstas_2 = \"don't come back\" #\" \" naudojamos kuomet vidury teksto yra viengubos kabutes\n",
    "tekstas_3 = 'this is text with \" in the middle' #arba atvirksciai arba:\n",
    "tekstas_2 = \"don\\'t come back\" #deti \\ pries zenkla, kurio nekeisti\n",
    "multiline_text = \"\"\" \n",
    "kazkoks eiliuotas\n",
    "tekstas\n",
    "\"\"\" #kaip pvz \n",
    "print(multiline_text)"
   ]
  },
  {
   "cell_type": "code",
   "execution_count": 14,
   "metadata": {},
   "outputs": [
    {
     "name": "stdout",
     "output_type": "stream",
     "text": [
      "H\n",
      "l\n",
      "!\n",
      "d\n"
     ]
    }
   ],
   "source": [
    "text = 'Hello World!'\n",
    "print(text[0])\n",
    "print(text[2])\n",
    "print(text[-1]) #nuo galo pirmas simbolis\n",
    "print(text[-2])\n"
   ]
  },
  {
   "cell_type": "markdown",
   "metadata": {},
   "source": [
    "# SLICING\n"
   ]
  },
  {
   "cell_type": "code",
   "execution_count": 24,
   "metadata": {},
   "outputs": [
    {
     "name": "stdout",
     "output_type": "stream",
     "text": [
      "Hello World!\n",
      "text[0:5],  Hello Hello\n",
      "text[0:5],  Hello Hello\n",
      "text[6:9],  Wor\n",
      "text[6:],  World!\n",
      "text[6:],  Wrd\n",
      "text[6::2],  Wrd\n",
      "text[::3],  HlWl\n",
      "text[::-1],  !dlroW olleH\n"
     ]
    }
   ],
   "source": [
    "print(text)\n",
    "# [start:end:step] - end is not included\n",
    "print('text[0:5], ', text[0:5], text[:5])\n",
    "print('text[0:5], ', text[0:5], text[:5])\n",
    "print('text[6:9], ', text[6:9])\n",
    "print('text[6:], ', text[6:])\n",
    "print('text[6:], ', text[6::2]) # :: kas antra raide imtu\n",
    "print('text[6::2], ', text[6::2])\n",
    "print('text[::3], ', text[::3])\n",
    "# reverse\n",
    "print('text[::-1], ', text[::-1])\n"
   ]
  },
  {
   "cell_type": "code",
   "execution_count": 29,
   "metadata": {},
   "outputs": [
    {
     "name": "stdout",
     "output_type": "stream",
     "text": [
      "12\n",
      "hello world!\n",
      "Hello World!\n"
     ]
    }
   ],
   "source": [
    "print (len(text))\n",
    "print (text.lower()) #does not overwrite original data\n",
    "print(text)\n",
    "\n"
   ]
  },
  {
   "cell_type": "code",
   "execution_count": 34,
   "metadata": {},
   "outputs": [
    {
     "name": "stdout",
     "output_type": "stream",
     "text": [
      "['hello', 'world!']\n",
      "['he', '', 'o wor', 'd!']\n",
      "hello tarpas world!\n",
      "hello world \n"
     ]
    }
   ],
   "source": [
    "print (text.split())\n",
    "print (text.split('l'))\n",
    "print (text.replace(' ', ' tarpas '))\n",
    "print (text.replace('!', ' '))\n"
   ]
  },
  {
   "cell_type": "code",
   "execution_count": 35,
   "metadata": {},
   "outputs": [
    {
     "data": {
      "text/plain": [
       "'hello world!'"
      ]
     },
     "execution_count": 35,
     "metadata": {},
     "output_type": "execute_result"
    }
   ],
   "source": [
    "text"
   ]
  },
  {
   "cell_type": "code",
   "execution_count": 37,
   "metadata": {},
   "outputs": [
    {
     "name": "stdout",
     "output_type": "stream",
     "text": [
      "True\n",
      "False\n"
     ]
    }
   ],
   "source": [
    "print ('world' in text)\n",
    "print ('World' in text) #didziosios ir mazosios yra svarbu"
   ]
  },
  {
   "cell_type": "code",
   "execution_count": 26,
   "metadata": {},
   "outputs": [
    {
     "data": {
      "text/plain": [
       "True"
      ]
     },
     "execution_count": 26,
     "metadata": {},
     "output_type": "execute_result"
    }
   ],
   "source": [
    "' '.isspace()\n"
   ]
  },
  {
   "cell_type": "code",
   "execution_count": 43,
   "metadata": {},
   "outputs": [
    {
     "name": "stdout",
     "output_type": "stream",
     "text": [
      "Hello world My name is Gertruda  , I like to play tennis\n",
      "Hello world My name is Gertruda Kondrate, I like to play tennis\n",
      "Hello world My name is Gertruda Kondrate, I like to play tennis. 5 + 2 is 7\n"
     ]
    }
   ],
   "source": [
    "mano_pavarde = 'Kondrate'\n",
    "print('Hello world', 'My name is', mano_vardas, ' , I like to play tennis')\n",
    "print('Hello world', 'My name is', mano_vardas, mano_pavarde + ', I like to play tennis')\n",
    "# f-string - format string\n",
    "print(f'Hello world My name is {mano_vardas} {mano_pavarde}, I like to play tennis. 5 + 2 is {5+2}')\n"
   ]
  },
  {
   "cell_type": "code",
   "execution_count": 47,
   "metadata": {},
   "outputs": [
    {
     "name": "stdout",
     "output_type": "stream",
     "text": [
      "Hello World\n",
      "Hello Hello Hello Hello Hello Hello Hello Hello Hello Hello \n"
     ]
    }
   ],
   "source": [
    "print('Hello ' + 'World')\n",
    "print('Hello ' * 10)\n"
   ]
  },
  {
   "cell_type": "code",
   "execution_count": 57,
   "metadata": {},
   "outputs": [
    {
     "name": "stdout",
     "output_type": "stream",
     "text": [
      "52\n",
      "42\n",
      "235\n",
      "9.4\n",
      "229345007\n",
      "8\n",
      "9\n",
      "2\n",
      "1\n",
      "0\n"
     ]
    }
   ],
   "source": [
    "number = 47\n",
    "print(number + 5)\n",
    "print(number - 5)\n",
    "print(number * 5)\n",
    "print(number / 5)\n",
    "print(number ** 5) #kelimas laipsniu\n",
    "print(2 ** 3)\n",
    "print(number // 5) #sveikaja dali is dalybos\n",
    "print(number % 5) # likutine dali\n",
    "print(3 % 2) #nelyginis\n",
    "print(6 % 2) #lyginis\n",
    "\n",
    "\n"
   ]
  }
 ],
 "metadata": {
  "interpreter": {
   "hash": "397704579725e15f5c7cb49fe5f0341eb7531c82d19f2c29d197e8b64ab5776b"
  },
  "kernelspec": {
   "display_name": "Python 3.9.10 64-bit",
   "language": "python",
   "name": "python3"
  },
  "language_info": {
   "codemirror_mode": {
    "name": "ipython",
    "version": 3
   },
   "file_extension": ".py",
   "mimetype": "text/x-python",
   "name": "python",
   "nbconvert_exporter": "python",
   "pygments_lexer": "ipython3",
   "version": "3.9.10"
  },
  "orig_nbformat": 4
 },
 "nbformat": 4,
 "nbformat_minor": 2
}
