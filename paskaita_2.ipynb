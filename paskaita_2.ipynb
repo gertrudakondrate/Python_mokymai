{
 "cells": [
  {
   "cell_type": "code",
   "execution_count": 4,
   "metadata": {},
   "outputs": [
    {
     "name": "stdout",
     "output_type": "stream",
     "text": [
      "<class 'int'>\n",
      "<class 'float'>\n",
      "<class 'float'>\n"
     ]
    }
   ],
   "source": [
    "# SUPRASTI SU KOKIU SKAICIAUS TIPU DIRBAME\n",
    "print (type(420)) #naudoti type funkcija patikrinti su kokiais duomenimis dirbame\n",
    "print (type(420.))\n",
    "print (type(420.5))"
   ]
  },
  {
   "cell_type": "code",
   "execution_count": 10,
   "metadata": {},
   "outputs": [
    {
     "name": "stdout",
     "output_type": "stream",
     "text": [
      "5\n",
      "11\n",
      "18\n"
     ]
    }
   ],
   "source": [
    "suma = 0\n",
    "suma = suma + 5\n",
    "print(suma)\n",
    "suma = suma + 6\n",
    "print(suma)\n",
    "suma += 7 # sutrumpinta versija. Naudojamas daznai, supaprastinta versija. Veikia su visom matematiniais veiksmais\n",
    "print(suma)"
   ]
  },
  {
   "cell_type": "code",
   "execution_count": 12,
   "metadata": {},
   "outputs": [
    {
     "name": "stdout",
     "output_type": "stream",
     "text": [
      "10\n",
      "45.0\n"
     ]
    }
   ],
   "source": [
    "sandauga = 1\n",
    "sandauga *= 10\n",
    "print(sandauga)\n",
    "sandauga *= 4.5 # vel sutrumpinta daugyba. Gali buti bet koks matem veiksmas\n",
    "print(sandauga)"
   ]
  },
  {
   "cell_type": "code",
   "execution_count": 16,
   "metadata": {},
   "outputs": [
    {
     "name": "stdout",
     "output_type": "stream",
     "text": [
      "27\n",
      "19\n",
      "92\n",
      "3\n",
      "5\n",
      "5.75\n"
     ]
    }
   ],
   "source": [
    "#Apskaičiuokite dviejų int sumą, skirtumą, sandaugą, liekaną, padalinkite vieną skaičių iš kito\n",
    "n_1= 23\n",
    "n_2=4\n",
    "\n",
    "print(n_1+n_2)\n",
    "print(n_1-n_2)\n",
    "print(n_1*n_2)\n",
    "print('dalybos liekana', n_1%n_2)\n",
    "print('sveikoji dalis dalybos', n_1//n_2)\n",
    "print(n_1/n_2)"
   ]
  },
  {
   "cell_type": "code",
   "execution_count": 1,
   "metadata": {},
   "outputs": [
    {
     "name": "stdout",
     "output_type": "stream",
     "text": [
      "27.83\n",
      "18.57\n",
      "107.416\n",
      "dalybos liekana 0.04999999999999982\n",
      "sveikoji dalis dalybos 5.0\n",
      "5.010799136069115\n"
     ]
    }
   ],
   "source": [
    "#Apskaičiuokite dviejų float sumą, skirtumą, sandaugą, liekaną, padalinkite vieną skaičiu iš kito\n",
    "n_1= 23.2\n",
    "n_2=4.63\n",
    "\n",
    "print(n_1+n_2)\n",
    "print(n_1-n_2)\n",
    "print(n_1*n_2)\n",
    "print('dalybos liekana', n_1%n_2)\n",
    "print('sveikoji dalis dalybos', n_1//n_2)\n",
    "print(n_1/n_2)"
   ]
  },
  {
   "cell_type": "code",
   "execution_count": 2,
   "metadata": {},
   "outputs": [
    {
     "name": "stdout",
     "output_type": "stream",
     "text": [
      "Atstumas iki saules yra 390.625 kartu didesnis iki menulio\n"
     ]
    }
   ],
   "source": [
    "#Atstumas iki Mėnulio yra apie 384,000 km, o iki Saulės 150,000,000, kiek kartų atstumas iki Saulės yra didesnis nei iki Mėnulio?\n",
    "dist_moon = 384000\n",
    "dist_sun = 150000000\n",
    "print(f'Atstumas iki saules yra {dist_sun/dist_moon} kartu didesnis iki menulio')"
   ]
  },
  {
   "cell_type": "code",
   "execution_count": 3,
   "metadata": {},
   "outputs": [
    {
     "name": "stdout",
     "output_type": "stream",
     "text": [
      "valandu: 2560.0\n"
     ]
    }
   ],
   "source": [
    "#Jeigu norėtume nuvažiuoti iki mėnulio automobiliu, kurio greitis 150km/h, kiek  valandų. N.d:metų, mėnesių, dienų, sekundžių tai užtruktų?\n",
    "car_speed = 150 #km/h\n",
    "print('valandu:', dist_moon/car_speed)\n"
   ]
  },
  {
   "cell_type": "markdown",
   "metadata": {},
   "source": [
    "# BOOLEAN DEKLARACIJA"
   ]
  },
  {
   "cell_type": "code",
   "execution_count": 19,
   "metadata": {},
   "outputs": [
    {
     "name": "stdout",
     "output_type": "stream",
     "text": [
      "<class 'bool'>\n",
      "True\n"
     ]
    }
   ],
   "source": [
    "loginis_kintamasis = True\n",
    "print(type(loginis_kintamasis))\n",
    "print(loginis_kintamasis)"
   ]
  },
  {
   "cell_type": "code",
   "execution_count": 20,
   "metadata": {},
   "outputs": [
    {
     "name": "stdout",
     "output_type": "stream",
     "text": [
      "1\n",
      "0\n"
     ]
    }
   ],
   "source": [
    "print(int(loginis_kintamasis))\n",
    "print(int(False))"
   ]
  },
  {
   "cell_type": "code",
   "execution_count": 4,
   "metadata": {},
   "outputs": [
    {
     "name": "stdout",
     "output_type": "stream",
     "text": [
      "True\n",
      "False\n",
      "False\n",
      "True\n",
      "True\n",
      "True\n",
      "50 == number: True\n",
      "100 == number: True\n",
      "True\n",
      "False\n",
      "True\n"
     ]
    }
   ],
   "source": [
    "number = 50\n",
    "print(10 > 5)\n",
    "print(10 < 5)\n",
    "print(10 < 10)\n",
    "print(10 <= 10)\n",
    "print(10 <= 10)\n",
    "print(10 >= 10)\n",
    "print('50 == number:', 50 == number)\n",
    "print('100 == number:', 50 == 50)\n",
    "print(not 5 > 10) # not - duoda priesinga atsakyma\n",
    "print(not True) \n",
    "print(not False) "
   ]
  },
  {
   "cell_type": "code",
   "execution_count": 7,
   "metadata": {},
   "outputs": [
    {
     "name": "stdout",
     "output_type": "stream",
     "text": [
      "True\n",
      "False\n",
      "True\n"
     ]
    }
   ],
   "source": [
    "print(\"Vilnius\" in 'Vilnius, Kaunas') # in - ar kazkas egzistuoja didesniam dalyke\n",
    "print(\"Klaipeda\" in 'Vilnius, Kaunas')\n",
    "print(\"s\" in 'Vilnius, Kaunas')"
   ]
  },
  {
   "cell_type": "code",
   "execution_count": 9,
   "metadata": {},
   "outputs": [
    {
     "name": "stdout",
     "output_type": "stream",
     "text": [
      "True\n",
      "True\n"
     ]
    }
   ],
   "source": [
    "print(True == 1)\n",
    "print(False == 0)"
   ]
  },
  {
   "cell_type": "code",
   "execution_count": 13,
   "metadata": {},
   "outputs": [
    {
     "name": "stdout",
     "output_type": "stream",
     "text": [
      "True\n",
      "True\n",
      "True\n",
      "True\n",
      "True\n",
      "True\n",
      "True\n"
     ]
    }
   ],
   "source": [
    "#Deklaruokite True reikšmę 5 skirtingais būdais\n",
    "print(1==1)\n",
    "print(2>1)\n",
    "print(not 1>2)\n",
    "print(\"a\" in \"abc\")\n",
    "print(bool(12))\n",
    "print(not 's' in 'Lova' and 2>1)\n",
    "print(str(True)) #str - string\n"
   ]
  },
  {
   "cell_type": "code",
   "execution_count": 8,
   "metadata": {},
   "outputs": [
    {
     "name": "stdout",
     "output_type": "stream",
     "text": [
      "False\n",
      "False\n",
      "False\n",
      "False\n",
      "False\n",
      "False\n"
     ]
    }
   ],
   "source": [
    "#Deklaruokite False reikšmę 5 skirtingais būdais\n",
    "print(0==1)\n",
    "print(2>10)\n",
    "print(not 10>2)\n",
    "print(\"d\" in \"abc\")\n",
    "print(bool(0))\n",
    "print('s' in 'Lova' and 2>1)\n"
   ]
  },
  {
   "cell_type": "code",
   "execution_count": 15,
   "metadata": {},
   "outputs": [
    {
     "name": "stdout",
     "output_type": "stream",
     "text": [
      "-1.0999999999999996\n"
     ]
    }
   ],
   "source": [
    "float_1 = 2.2\n",
    "float_2 = 3.3\n",
    "print(float_1 - float_2) "
   ]
  },
  {
   "cell_type": "markdown",
   "metadata": {},
   "source": [
    "# NAMU DARBAI 1"
   ]
  },
  {
   "cell_type": "code",
   "execution_count": 29,
   "metadata": {},
   "outputs": [
    {
     "name": "stdout",
     "output_type": "stream",
     "text": [
      "Gertruda Kondrate\n",
      "Mano vardas yra Gertruda, o pavarde Kondrate\n"
     ]
    }
   ],
   "source": [
    "# 1. Atspausdinkite savo vardą ir pavardę viena print() funkcija. Panaudokite du kintamuosius, panaudokite viengubas ir dvigubas kabutes.\n",
    "name = 'Gertruda'\n",
    "surname = \"Kondrate\"\n",
    "print(name, surname)\n",
    "print(f'Mano vardas yra {name}, o pavarde {surname}')"
   ]
  },
  {
   "cell_type": "code",
   "execution_count": 30,
   "metadata": {},
   "outputs": [
    {
     "name": "stdout",
     "output_type": "stream",
     "text": [
      "PYTHON MAKES ME REALLY REALLY HAPPY!\n",
      "PyThOn makes me really really happy!\n"
     ]
    }
   ],
   "source": [
    "# 2. Iš stringo 'Python makes me really really happy!' \n",
    "# Į ekraną išveskite string’ą tik didžiosiomis raidėmis\n",
    "# Pakeiskite žodį Python į PyThOn naudodami replace()\n",
    "text =  'Python makes me really really happy!'\n",
    "print(text.upper())\n",
    "\n",
    "print(text.replace('Python', 'PyThOn'))"
   ]
  },
  {
   "cell_type": "code",
   "execution_count": 28,
   "metadata": {},
   "outputs": [
    {
     "name": "stdout",
     "output_type": "stream",
     "text": [
      "18\n",
      "happy\n",
      "to\n",
      "40\n"
     ]
    }
   ],
   "source": [
    "#3. Iš stringo ‘Hello World, I am happy to learn Python!’\n",
    "#Atspausdinkite ‘happy’ naudodami slice sintaksę. Naudokite  .index(‘happy’), len(‘happy’) tam \n",
    "#Atspausdinkite ‘to’ naudodami slice sintaksę\n",
    "#Koks šio string ilgis?\n",
    "\n",
    "text = 'Hello World, I am happy to learn Python!'\n",
    "print(text.index('happy'))\n",
    "print(text[text.index('happy') : text.index('happy') + len('happy')])\n",
    "\n",
    "print(text[text.index('to') : text.index('to') + len('to')])\n",
    "\n",
    "print(len(text))"
   ]
  },
  {
   "cell_type": "markdown",
   "metadata": {},
   "source": [
    "# LIST DEKLARACIJA"
   ]
  },
  {
   "cell_type": "code",
   "execution_count": 12,
   "metadata": {},
   "outputs": [
    {
     "name": "stdout",
     "output_type": "stream",
     "text": [
      "<class 'list'>\n",
      "<class 'list'>\n",
      "Vilnius\n",
      "Klaipeda\n",
      "['Kaunas', 'Klaipeda']\n"
     ]
    }
   ],
   "source": [
    "cities = ['Vilnius', 'Kaunas', 'Klaipeda']\n",
    "print(type(cities))\n",
    "print(type([])) # galima rasyti ir kita\n",
    "print(cities[0])\n",
    "print(cities[-1]) # skaiciuoja nuo galo\n",
    "# SLICING\n",
    "print(cities[1:])"
   ]
  },
  {
   "cell_type": "code",
   "execution_count": 13,
   "metadata": {},
   "outputs": [
    {
     "name": "stdout",
     "output_type": "stream",
     "text": [
      "['Vilnius', 'Kaunas', 'Siauliai']\n"
     ]
    }
   ],
   "source": [
    "cities[-1] = 'Siauliai' # keitimas per indeksus\n",
    "print(cities)"
   ]
  },
  {
   "cell_type": "code",
   "execution_count": 24,
   "metadata": {},
   "outputs": [
    {
     "name": "stdout",
     "output_type": "stream",
     "text": [
      "['Vilnius', 'Kaunas', 'Siauliai', 'Panevezys']\n",
      "['Vilnius', 'Kaunas', 'Siauliai']\n"
     ]
    }
   ],
   "source": [
    "cities.append('Panevezys') #prideda tik prie galo. Antra karta paleidus - prides dar karta \n",
    "print(cities)\n",
    "cities.pop() #galime nurodyti indeksas, o jeigu tuscia, pasalins paskutine reiksme\n",
    "print(cities)"
   ]
  },
  {
   "cell_type": "code",
   "execution_count": 25,
   "metadata": {},
   "outputs": [
    {
     "name": "stdout",
     "output_type": "stream",
     "text": [
      "['Vilnius', 'Siauliai']\n"
     ]
    }
   ],
   "source": [
    "cities.remove('Kaunas') \n",
    "print(cities)\n"
   ]
  },
  {
   "cell_type": "code",
   "execution_count": 28,
   "metadata": {},
   "outputs": [
    {
     "name": "stdout",
     "output_type": "stream",
     "text": [
      "['Vilnius', 'Siauliai', 'New YOrk', 'New York']\n",
      "po extend\n",
      "['Vilnius', 'Siauliai', 'New YOrk', 'New York', 'New York', 'London']\n"
     ]
    },
    {
     "data": {
      "text/plain": [
       "'New York'"
      ]
     },
     "execution_count": 28,
     "metadata": {},
     "output_type": "execute_result"
    }
   ],
   "source": [
    "# APPEND PRIDEDA VISA LIST'A BENDRAI,o EXTEND PRIDEDA PO VIENA NARI IS DUOTO LISTO\n",
    "new_cities = ['New York', 'London'] # jeigu norime prideti sarasa. SARASE GALI EGZISTUOTI IR KITI SARASAI\n",
    "print(cities)\n",
    "cities.extend(new_cities)\n",
    "print('po extend')\n",
    "print(cities)\n",
    "cities.pop()\n",
    "cities.pop()"
   ]
  },
  {
   "cell_type": "code",
   "execution_count": 29,
   "metadata": {},
   "outputs": [
    {
     "name": "stdout",
     "output_type": "stream",
     "text": [
      "[]\n"
     ]
    }
   ],
   "source": [
    "cities.clear() \n",
    "print(cities)"
   ]
  },
  {
   "cell_type": "code",
   "execution_count": 31,
   "metadata": {},
   "outputs": [
    {
     "data": {
      "text/plain": [
       "1"
      ]
     },
     "execution_count": 31,
     "metadata": {},
     "output_type": "execute_result"
    }
   ],
   "source": [
    "cities = ['Vilnius', 'Kaunas', 'Siauliai', 'Marijampole', 'Panevezys', 'Panevezys']\n",
    "cities.count('Panevezys') # kiek kartu kartojasi zodis\\\n",
    "cities.count('Vilnius')"
   ]
  },
  {
   "cell_type": "code",
   "execution_count": 33,
   "metadata": {},
   "outputs": [
    {
     "data": {
      "text/plain": [
       "4"
      ]
     },
     "execution_count": 33,
     "metadata": {},
     "output_type": "execute_result"
    }
   ],
   "source": [
    "cities.index('Panevezys') #grazina PIRMA indekso verte. \n"
   ]
  },
  {
   "cell_type": "code",
   "execution_count": 34,
   "metadata": {},
   "outputs": [
    {
     "name": "stdout",
     "output_type": "stream",
     "text": [
      "['Vilnius', 'Kaunas', 'Klaipeda', 'Siauliai', 'Marijampole', 'Panevezys', 'Panevezys']\n"
     ]
    }
   ],
   "source": [
    "cities.insert(2, 'Klaipeda') #iterpti reiksme i list'a\n",
    "print(cities)"
   ]
  },
  {
   "cell_type": "code",
   "execution_count": 35,
   "metadata": {},
   "outputs": [
    {
     "name": "stdout",
     "output_type": "stream",
     "text": [
      "['Panevezys', 'Panevezys', 'Marijampole', 'Siauliai', 'Klaipeda', 'Kaunas', 'Vilnius']\n"
     ]
    }
   ],
   "source": [
    "cities.reverse() #apsuka sarasa i priesinga puse. ATIDZIAI - NES TOKS SARASAS IR PALIEKA\n",
    "print(cities)"
   ]
  },
  {
   "cell_type": "code",
   "execution_count": 38,
   "metadata": {},
   "outputs": [
    {
     "name": "stdout",
     "output_type": "stream",
     "text": [
      "['Vilnius', 'Kaunas', 'Klaipeda', 'Siauliai', 'Marijampole', 'Panevezys', 'Panevezys']\n",
      "['Panevezys', 'Panevezys', 'Marijampole', 'Siauliai', 'Klaipeda', 'Kaunas', 'Vilnius']\n"
     ]
    }
   ],
   "source": [
    "print(cities[::-1]) # SU SLICING - IRGI APSUKA SARASA. TIK VIENA KARTA\n",
    "print(cities)\n"
   ]
  },
  {
   "cell_type": "code",
   "execution_count": 41,
   "metadata": {},
   "outputs": [
    {
     "name": "stdout",
     "output_type": "stream",
     "text": [
      "[0, 1, 111, 343, 556, 55675, 443443]\n",
      "[443443, 55675, 556, 343, 111, 1, 0]\n"
     ]
    }
   ],
   "source": [
    "numbers = [443443, 343, 556, 0, 1, 55675, 111]\n",
    "numbers.sort() # sudelioja didejimo tvarka\n",
    "print(numbers)\n",
    "numbers.sort(reverse=True) # sudelioja mazejimo tvarka\n",
    "print(numbers)"
   ]
  },
  {
   "cell_type": "code",
   "execution_count": 45,
   "metadata": {},
   "outputs": [
    {
     "name": "stdout",
     "output_type": "stream",
     "text": [
      "False\n",
      "True\n",
      "True\n",
      "True\n"
     ]
    }
   ],
   "source": [
    "print(bool([])) # keiciame tuscia sarasa i logine verte\n",
    "print(bool([5]))\n",
    "print(bool([0]))\n",
    "print(bool([False, 0, ''])) # jeigu yra BET KOKIA VERTE sarase, atsakymas bus TRUE "
   ]
  },
  {
   "cell_type": "code",
   "execution_count": 46,
   "metadata": {},
   "outputs": [
    {
     "name": "stdout",
     "output_type": "stream",
     "text": [
      "True\n"
     ]
    }
   ],
   "source": [
    "print('Vilnius' in cities) # galime tikrinti ar yra kazkas sarase"
   ]
  },
  {
   "cell_type": "code",
   "execution_count": 47,
   "metadata": {},
   "outputs": [
    {
     "name": "stdout",
     "output_type": "stream",
     "text": [
      "[1, 3, 58, 'A', False]\n"
     ]
    }
   ],
   "source": [
    "# MATEMATINIAI VEIKSMAI\n",
    "my_list = [1, 3, 58] + ['A', False] # SUDETIS. Galima sudeti sarasus. ATIMTI NEGALIMA\n",
    "print(my_list)\n",
    "\n"
   ]
  },
  {
   "cell_type": "code",
   "execution_count": 48,
   "metadata": {},
   "outputs": [
    {
     "name": "stdout",
     "output_type": "stream",
     "text": [
      "['first', 3, 58, 'first', 3, 58, 'first', 3, 58, 'first', 3, 58, 'first', 3, 58, 'first', 3, 58, 'first', 3, 58, 'first', 3, 58, 'first', 3, 58, 'first', 3, 58, 'first', 3, 58, 'first', 3, 58, 'first', 3, 58, 'first', 3, 58, 'first', 3, 58, 'first', 3, 58, 'first', 3, 58, 'first', 3, 58, 'first', 3, 58, 'first', 3, 58, 'first', 3, 58, 'first', 3, 58, 'first', 3, 58, 'first', 3, 58, 'first', 3, 58, 'first', 3, 58, 'first', 3, 58, 'first', 3, 58, 'first', 3, 58, 'first', 3, 58, 'first', 3, 58, 'first', 3, 58, 'first', 3, 58, 'first', 3, 58, 'first', 3, 58, 'first', 3, 58, 'first', 3, 58, 'first', 3, 58, 'first', 3, 58, 'first', 3, 58, 'first', 3, 58, 'first', 3, 58, 'first', 3, 58, 'first', 3, 58, 'first', 3, 58, 'first', 3, 58, 'first', 3, 58, 'first', 3, 58, 'first', 3, 58, 'first', 3, 58]\n"
     ]
    }
   ],
   "source": [
    "my_list = ['first', 3, 58] * 50 # GALIMA DAUGINTI. PAKARTOJO 50 KARTU\n",
    "print(my_list)"
   ]
  },
  {
   "cell_type": "markdown",
   "metadata": {},
   "source": [
    "# MUTABLE vs. IMMUTABLE variables"
   ]
  },
  {
   "cell_type": "code",
   "execution_count": 51,
   "metadata": {},
   "outputs": [
    {
     "name": "stdout",
     "output_type": "stream",
     "text": [
      "4390011280\n",
      "4390011280\n",
      "6 13\n",
      "4390011280\n",
      "4390011504\n"
     ]
    }
   ],
   "source": [
    "# visi kintamieji skirstomi i du tipus\n",
    "# IMMUTABLE \n",
    "#VISI LIKE YRA IMMUTABLE\n",
    "number_1 = 6\n",
    "number_2 = number_1 #persigalvojau, kad visgi turi reiksme\n",
    "print(id(number_1)) \n",
    "print(id(number_2))\n",
    "number_2 = 13\n",
    "print(number_1, number_2)\n",
    "print(id(number_1)) # parodo kur saugoma musu kompe info\n",
    "print(id(number_2)) \n",
    "#galutiniai skaiciai atsakymo nesutampa t.y skirtingos vertes "
   ]
  },
  {
   "cell_type": "code",
   "execution_count": 54,
   "metadata": {},
   "outputs": [
    {
     "name": "stdout",
     "output_type": "stream",
     "text": [
      "4463488832\n",
      "4463488832\n",
      "[1, 5, 10, 13]\n",
      "[1, 5, 10, 13]\n"
     ]
    }
   ],
   "source": [
    "# MUTABLE\n",
    "# LIST, SET, DICT\n",
    "numbers_1 = [1, 5, 10]\n",
    "numbers_2 = numbers_1 # atminty kompo irasom kaip tuos pacius duomenis ir python automatiskai skaitys kaip viena \n",
    "print(id(numbers_1)) \n",
    "print(id(numbers_2))\n",
    "numbers_2.append(13)\n",
    "print(numbers_1) \n",
    "print(numbers_2)"
   ]
  },
  {
   "cell_type": "code",
   "execution_count": 55,
   "metadata": {},
   "outputs": [
    {
     "name": "stdout",
     "output_type": "stream",
     "text": [
      "4463455552\n",
      "4463492288\n",
      "[1, 5, 10]\n",
      "[1, 5, 10, 13]\n"
     ]
    }
   ],
   "source": [
    "numbers_1 = [1, 5, 10]\n",
    "numbers_2 = numbers_1.copy() #PADAREME ATSKIRA KOPIJA IR DABAR VEIKS\n",
    "print(id(numbers_1)) \n",
    "print(id(numbers_2))\n",
    "numbers_2.append(13)\n",
    "print(numbers_1) \n",
    "print(numbers_2)"
   ]
  },
  {
   "cell_type": "code",
   "execution_count": 57,
   "metadata": {},
   "outputs": [
    {
     "name": "stdout",
     "output_type": "stream",
     "text": [
      "4463480000\n",
      "4463485504\n",
      "4463480512\n",
      "4463480512\n",
      "[1, 5, [10, 20, 13]]\n",
      "[1, 5, [10, 20, 13]]\n"
     ]
    }
   ],
   "source": [
    "numbers_1 = [1, 5, [10, 20]]\n",
    "numbers_2 = numbers_1.copy() \n",
    "print(id(numbers_1)) \n",
    "print(id(numbers_2))\n",
    "print(id(numbers_1[2])) \n",
    "print(id(numbers_2[2]))\n",
    "numbers_2[2].append(13)\n",
    "print(numbers_1) \n",
    "print(numbers_2)"
   ]
  },
  {
   "cell_type": "code",
   "execution_count": 59,
   "metadata": {},
   "outputs": [
    {
     "name": "stdout",
     "output_type": "stream",
     "text": [
      "4435361856\n",
      "4463485504\n",
      "4463480000\n",
      "4463478208\n",
      "[1, 5, [10, 20]]\n",
      "[1, 5, [10, 20, 13]]\n"
     ]
    }
   ],
   "source": [
    "# BEST FIX TO SOLVE THE ABOVE PROBLEM FOR MUTABLE \n",
    "import copy\n",
    "\n",
    "numbers_1 = [1, 5, [10, 20]]\n",
    "numbers_2 = copy.deepcopy(numbers_1) \n",
    "print(id(numbers_1)) \n",
    "print(id(numbers_2))\n",
    "print(id(numbers_1[2])) \n",
    "print(id(numbers_2[2]))\n",
    "numbers_2[2].append(13)\n",
    "print(numbers_1) \n",
    "print(numbers_2)"
   ]
  },
  {
   "cell_type": "code",
   "execution_count": 61,
   "metadata": {},
   "outputs": [
    {
     "name": "stdout",
     "output_type": "stream",
     "text": [
      "3\n",
      "['mama', 'tetis', 'mociute', 'senelis']\n"
     ]
    }
   ],
   "source": [
    "# Deklaruoti list tipo duomenį, gauti jo ilgį, pridėti naują elementą (append)\n",
    "sarasas = ['mama', 'tetis', 'mociute']\n",
    "print(len(sarasas))\n",
    "sarasas.append('senelis')\n",
    "print(sarasas)"
   ]
  },
  {
   "cell_type": "code",
   "execution_count": 62,
   "metadata": {},
   "outputs": [
    {
     "name": "stdout",
     "output_type": "stream",
     "text": [
      "True\n"
     ]
    }
   ],
   "source": [
    "# Patikrinti ar elementas yra jūsų sąraše\n",
    "sarasas = ['mama', 'tetis', 'mociute']\n",
    "print('mociute' in sarasas)"
   ]
  },
  {
   "cell_type": "code",
   "execution_count": 78,
   "metadata": {},
   "outputs": [
    {
     "name": "stdout",
     "output_type": "stream",
     "text": [
      "[1, 5, 3, 1, 2, 6]\n",
      "[5, 3, 1, 2, 6]\n",
      "[3, 1, 2, 6]\n",
      "[3, 1, 2, 6, 4]\n",
      "[1, 2, 3, 4, 6]\n"
     ]
    },
    {
     "data": {
      "text/plain": [
       "1"
      ]
     },
     "execution_count": 78,
     "metadata": {},
     "output_type": "execute_result"
    }
   ],
   "source": [
    "# Sudėti du list’us, išimti paskutinį narį iš sudėto listo, išrikiuoti list’ą, suskaičiuoti kiek yra kokios nors reikšmės įvesčių list’e\n",
    "list_1 = [1, 5, 3] + [1, 2, 6]\n",
    "print(list_1)\n",
    "list_1.remove(1)\n",
    "print(list_1)\n",
    "list_1.pop(0)\n",
    "print(list_1)\n",
    "list_1.append(4)\n",
    "print(list_1)\n",
    "list_1.sort()\n",
    "print(list_1)\n",
    "list_1.count(1)\n"
   ]
  },
  {
   "cell_type": "markdown",
   "metadata": {},
   "source": [
    "# TUPLE"
   ]
  },
  {
   "cell_type": "code",
   "execution_count": 79,
   "metadata": {},
   "outputs": [],
   "source": [
    "# TURI SEKOS PARAMETRUS KAIP IR LIST(NAUDOJA INDEKSUS) \n",
    "# SUKURUS TUPLE DUOMENIS, NELABAI GALIMA SU JAIS MANIPULIUOTI"
   ]
  },
  {
   "cell_type": "code",
   "execution_count": 84,
   "metadata": {},
   "outputs": [
    {
     "name": "stdout",
     "output_type": "stream",
     "text": [
      "(1, 2, 3)\n",
      "2\n",
      "(1, 2)\n"
     ]
    }
   ],
   "source": [
    "my_tuple = (1, 2, 3)\n",
    "print(my_tuple)\n",
    "print(my_tuple[1])\n",
    "print(my_tuple[:2]) #SLICING"
   ]
  },
  {
   "cell_type": "code",
   "execution_count": 87,
   "metadata": {},
   "outputs": [
    {
     "name": "stdout",
     "output_type": "stream",
     "text": [
      "1\n",
      "2\n"
     ]
    }
   ],
   "source": [
    "print(my_tuple.count(3))\n",
    "print(my_tuple.index(3))"
   ]
  },
  {
   "cell_type": "code",
   "execution_count": 88,
   "metadata": {},
   "outputs": [
    {
     "name": "stdout",
     "output_type": "stream",
     "text": [
      "(1, 2, 3, 5, 10)\n"
     ]
    }
   ],
   "source": [
    "my_tuple = my_tuple + (5,10)\n",
    "print(my_tuple)"
   ]
  },
  {
   "cell_type": "code",
   "execution_count": 90,
   "metadata": {},
   "outputs": [
    {
     "name": "stdout",
     "output_type": "stream",
     "text": [
      "(1, 5, [4, 8])\n",
      "(1, 5, [4, 8, 100])\n"
     ]
    }
   ],
   "source": [
    "my_tuple_2 = (1, 5, [4, 8]) # VEIKS FUKCIJOS TIK LIST'E, KURIS YRA PACIAME TUPLE\n",
    "print(my_tuple_2)\n",
    "my_tuple_2[2].append(100)\n",
    "print(my_tuple_2)"
   ]
  },
  {
   "cell_type": "code",
   "execution_count": 92,
   "metadata": {},
   "outputs": [
    {
     "name": "stdout",
     "output_type": "stream",
     "text": [
      "8\n"
     ]
    }
   ],
   "source": [
    "# Gaukite reikšmę 8\n",
    "my_tuple = (1, 2, ['3', 4, 5], [6, [7, (8)]])\n",
    "print(my_tuple[3][1][1])"
   ]
  },
  {
   "cell_type": "code",
   "execution_count": 99,
   "metadata": {},
   "outputs": [
    {
     "name": "stdout",
     "output_type": "stream",
     "text": [
      "(11, [222, 22], 44, 55)\n"
     ]
    }
   ],
   "source": [
    "# Pakeiskite reikšmę i tuple1 = (11, [222, 22], 44, 55)\n",
    "tuple1 = (11, [222, 33], 44, 55)\n",
    "tuple1[1][-1] = 22\n",
    "print(tuple1)"
   ]
  },
  {
   "cell_type": "markdown",
   "metadata": {},
   "source": [
    "# RANGE "
   ]
  },
  {
   "cell_type": "code",
   "execution_count": null,
   "metadata": {},
   "outputs": [],
   "source": [
    "# NAUDOJAMAS KAI NORIME TAM TIKRA VEIKSMA ATLIKTI NORIMA KARTA SKAICIU\n",
    "# SKAICIU SEKOMS NAUDOJAMAS"
   ]
  },
  {
   "cell_type": "code",
   "execution_count": 102,
   "metadata": {},
   "outputs": [
    {
     "name": "stdout",
     "output_type": "stream",
     "text": [
      "<class 'range'>\n",
      "[54, 57, 60, 63, 66, 69, 72, 75, 78, 81, 84, 87, 90, 93, 96, 99, 102, 105, 108, 111, 114, 117, 120, 123, 126, 129, 132, 135, 138, 141, 144, 147, 150, 153, 156]\n"
     ]
    }
   ],
   "source": [
    "my_numbers = range(54, 158, 3)\n",
    "print(type(my_numbers))\n",
    "print(list(my_numbers))"
   ]
  },
  {
   "cell_type": "code",
   "execution_count": 104,
   "metadata": {},
   "outputs": [
    {
     "name": "stdout",
     "output_type": "stream",
     "text": [
      "[50, 43, 36, 29, 22, 15, 8, 1, -6, -13, -20, -27, -34, -41, -48, -55, -62, -69, -76, -83, -90, -97, -104, -111, -118, -125, -132, -139, -146, -153]\n",
      "[20, 22, 24, 26, 28, 30, 32, 34, 36, 38, 40, 42, 44, 46, 48, 50, 52, 54, 56, 58, 60, 62, 64, 66, 68, 70, 72, 74, 76, 78]\n"
     ]
    }
   ],
   "source": [
    "print(list(range(50, -158, -7)))\n",
    "print(list(range(20, 80, 2))) # jeigu norime tureti ir 80, reikia perrasyti i 81 (del list'o indeksu kad skaiciuojasi nuo 0)"
   ]
  },
  {
   "cell_type": "markdown",
   "metadata": {},
   "source": [
    "# NAMU DARBAI 2"
   ]
  },
  {
   "cell_type": "code",
   "execution_count": 33,
   "metadata": {},
   "outputs": [
    {
     "name": "stdout",
     "output_type": "stream",
     "text": [
      "150 km/hours\n",
      "1314000 km/years\n",
      "108000 km/months\n",
      "3600 km/days\n",
      "0.041666666666666664 km/seconds\n",
      "metu: 0.2922374429223744\n",
      "menesiu: 3.5555555555555554\n",
      "dienu: 106.66666666666667\n",
      "sekundziu: 9216000.0\n"
     ]
    }
   ],
   "source": [
    "#1. Jeigu norėtume nuvažiuoti iki mėnulio (384000 km) automobiliu, kurio greitis 150km/h, kiek  valandų. N.d:metų, mėnesių, dienų, sekundžių tai užtruktų?\n",
    "\n",
    "dist_moon = 384000\n",
    "\n",
    "car_speed_h = 150\n",
    "car_speed_y = car_speed_h * 24 * 365\n",
    "car_speed_m = car_speed_h * 24 * 30\n",
    "car_speed_d = car_speed_h * 24 \n",
    "car_speed_s = car_speed_h / 60 / 60 \n",
    "\n",
    "print(car_speed_h, 'km/hours')\n",
    "print(car_speed_y, 'km/years')\n",
    "print(car_speed_m, 'km/months')\n",
    "print(car_speed_d, 'km/days')\n",
    "print(car_speed_s, 'km/seconds')\n",
    "\n",
    "print('metu:', dist_moon/car_speed_y)\n",
    "print('menesiu:', dist_moon/car_speed_m)\n",
    "print('dienu:', dist_moon/car_speed_d)\n",
    "print('sekundziu:', dist_moon/car_speed_s)\n"
   ]
  },
  {
   "cell_type": "code",
   "execution_count": 42,
   "metadata": {},
   "outputs": [
    {
     "name": "stdout",
     "output_type": "stream",
     "text": [
      "1989-07-25\n",
      "2022-02-22\n",
      "Dienu skaicius nuo gimtadienio:11900 days, 0:00:00\n"
     ]
    }
   ],
   "source": [
    "#2. Kiek dienų praėjo nuo jūsų gimimo dienos?\n",
    "import datetime\n",
    "from datetime import date #galima kelti jeigu norim kazko tiksliau\n",
    "\n",
    "birthday = date(1989, 7, 25)\n",
    "today = date.today()\n",
    "print(birthday)\n",
    "print(today)\n",
    "print(f'Dienu skaicius nuo gimtadienio:{today - birthday}')\n",
    "\n"
   ]
  },
  {
   "cell_type": "code",
   "execution_count": 50,
   "metadata": {},
   "outputs": [
    {
     "name": "stdout",
     "output_type": "stream",
     "text": [
      "(1, 5846, 3, 74, 4, 68, 4, 8, 7, 4)\n",
      "(1, 5846, 3, 74, 4, 68, 4, 8, 7)\n",
      "(1, 3, 4, 4, 7, 8, 68, 74, 5846)\n",
      "2\n",
      "5846\n"
     ]
    }
   ],
   "source": [
    "#3.Sudėti du tuple, išimti paskutinį narį iš sudėto tuple, išrikiuoti tuple, suskaičiuoti kiek yra kokios nors reikšmės įvesčių tuple, rasti didžiausią reikšmę.\n",
    "my_tuple = (1,5846,3,74) + (4,68,4,8,7,4)\n",
    "print(my_tuple)\n",
    "my_tuple = my_tuple[:-1] #kaip vienas is variantu \n",
    "print(my_tuple)\n",
    "\n",
    "my_tuple = tuple(sorted(my_tuple)) # sorted pakeicia duomenu tipa. reikia perkeisti atgal\n",
    "print(my_tuple)\n",
    "print(my_tuple.count(4)) # kiek kartojasi\n",
    "print(max(my_tuple)) # rodo didziausia rezultata "
   ]
  },
  {
   "cell_type": "code",
   "execution_count": 106,
   "metadata": {},
   "outputs": [
    {
     "name": "stdout",
     "output_type": "stream",
     "text": [
      "4\n"
     ]
    }
   ],
   "source": [
    "obje = ['number', 200, (5, 'text'), {'numbers': [1,2,3], 'letter': 'a'}]\n",
    "print(len(obje))"
   ]
  },
  {
   "cell_type": "code",
   "execution_count": 134,
   "metadata": {},
   "outputs": [
    {
     "name": "stdout",
     "output_type": "stream",
     "text": [
      "5\n"
     ]
    }
   ],
   "source": [
    "print(17//3)"
   ]
  },
  {
   "cell_type": "code",
   "execution_count": 111,
   "metadata": {},
   "outputs": [
    {
     "name": "stdout",
     "output_type": "stream",
     "text": [
      "['a', 'b', 'c']\n"
     ]
    }
   ],
   "source": [
    "raides = ['a', 'x', 'b', 'y', 'd']\n",
    "raides.remove('x')\n",
    "raides[2] = 'c'\n",
    "raides.pop()\n",
    "print(raides)"
   ]
  },
  {
   "cell_type": "code",
   "execution_count": 113,
   "metadata": {},
   "outputs": [
    {
     "name": "stdout",
     "output_type": "stream",
     "text": [
      "3\n"
     ]
    }
   ],
   "source": [
    "A = set('banana')\n",
    "print(len(A))"
   ]
  },
  {
   "cell_type": "code",
   "execution_count": 114,
   "metadata": {},
   "outputs": [
    {
     "name": "stdout",
     "output_type": "stream",
     "text": [
      "{1, 2}\n"
     ]
    }
   ],
   "source": [
    "A = {1, 2, 3, 4, 5}\n",
    "B = {3, 4, 5, 6, 7}\n",
    "print(A.difference(B))"
   ]
  },
  {
   "cell_type": "code",
   "execution_count": 142,
   "metadata": {},
   "outputs": [
    {
     "ename": "TypeError",
     "evalue": "'set' object is not callable",
     "output_type": "error",
     "traceback": [
      "\u001b[0;31m---------------------------------------------------------------------------\u001b[0m",
      "\u001b[0;31mTypeError\u001b[0m                                 Traceback (most recent call last)",
      "Input \u001b[0;32mIn [142]\u001b[0m, in \u001b[0;36m<module>\u001b[0;34m\u001b[0m\n\u001b[1;32m      2\u001b[0m numbers \u001b[38;5;241m=\u001b[39m \u001b[38;5;124m'\u001b[39m\u001b[38;5;124m123456\u001b[39m\u001b[38;5;124m'\u001b[39m\n\u001b[1;32m      3\u001b[0m \u001b[38;5;28;01mfor\u001b[39;00m n \u001b[38;5;129;01min\u001b[39;00m numbers:\n\u001b[0;32m----> 4\u001b[0m     s \u001b[38;5;241m+\u001b[39m\u001b[38;5;241m=\u001b[39m \u001b[38;5;28;43mset\u001b[39;49m\u001b[43m(\u001b[49m\u001b[43mnumbers\u001b[49m\u001b[43m)\u001b[49m\u001b[43m(\u001b[49m\u001b[43mn\u001b[49m\u001b[43m)\u001b[49m\n\u001b[1;32m      5\u001b[0m \u001b[38;5;28mprint\u001b[39m(s)\n",
      "\u001b[0;31mTypeError\u001b[0m: 'set' object is not callable"
     ]
    }
   ],
   "source": [
    "s = 0\n",
    "numbers = '123456'\n",
    "for n in numbers:\n",
    "    s += set(numbers)(n)\n",
    "print(s)"
   ]
  },
  {
   "cell_type": "code",
   "execution_count": 125,
   "metadata": {},
   "outputs": [
    {
     "name": "stdout",
     "output_type": "stream",
     "text": [
      "369\n"
     ]
    }
   ],
   "source": [
    "rezultatas = \"\"\n",
    "for i in range(2,12):\n",
    "    if i % 3 == 0:\n",
    "        rezultatas = rezultatas + str(i)\n",
    "print(rezultatas)"
   ]
  },
  {
   "cell_type": "code",
   "execution_count": 126,
   "metadata": {},
   "outputs": [
    {
     "name": "stdout",
     "output_type": "stream",
     "text": [
      "(1, 2)\n"
     ]
    }
   ],
   "source": [
    "def kord_spauzd():\n",
    "    for x in range(1,2):\n",
    "        for y in range(2,3):\n",
    "            print(f'({x}, {y})')\n",
    "kord_spauzd()"
   ]
  },
  {
   "cell_type": "code",
   "execution_count": 127,
   "metadata": {},
   "outputs": [
    {
     "name": "stdout",
     "output_type": "stream",
     "text": [
      "[]\n"
     ]
    }
   ],
   "source": [
    "x = []\n",
    "def f():\n",
    "    x = []\n",
    "    x.append(1)\n",
    "    x.append(2)\n",
    "    x.append(3)\n",
    "f()\n",
    "print(x)"
   ]
  }
 ],
 "metadata": {
  "interpreter": {
   "hash": "aee8b7b246df8f9039afb4144a1f6fd8d2ca17a180786b69acc140d282b71a49"
  },
  "kernelspec": {
   "display_name": "Python 3.10.2 64-bit",
   "language": "python",
   "name": "python3"
  },
  "language_info": {
   "codemirror_mode": {
    "name": "ipython",
    "version": 3
   },
   "file_extension": ".py",
   "mimetype": "text/x-python",
   "name": "python",
   "nbconvert_exporter": "python",
   "pygments_lexer": "ipython3",
   "version": "3.10.2"
  },
  "orig_nbformat": 4
 },
 "nbformat": 4,
 "nbformat_minor": 2
}
