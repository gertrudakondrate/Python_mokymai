{
 "cells": [
  {
   "cell_type": "code",
   "execution_count": 4,
   "metadata": {},
   "outputs": [
    {
     "name": "stdout",
     "output_type": "stream",
     "text": [
      "<class 'int'>\n",
      "<class 'float'>\n",
      "<class 'float'>\n"
     ]
    }
   ],
   "source": [
    "print (type(420)) #naudoti type funkcija patikrinti su kokiais duomenimis dirbame\n",
    "print (type(420.))\n",
    "print (type(420.5))"
   ]
  },
  {
   "cell_type": "code",
   "execution_count": 10,
   "metadata": {},
   "outputs": [
    {
     "name": "stdout",
     "output_type": "stream",
     "text": [
      "5\n",
      "11\n",
      "18\n"
     ]
    }
   ],
   "source": [
    "suma = 0\n",
    "suma = suma + 5\n",
    "print(suma)\n",
    "suma = suma + 6\n",
    "print(suma)\n",
    "suma += 7 #naudojamas daznai, supaprastinta versija. Veikia su visom matematiniais veiksmais\n",
    "print(suma)"
   ]
  },
  {
   "cell_type": "code",
   "execution_count": 12,
   "metadata": {},
   "outputs": [
    {
     "name": "stdout",
     "output_type": "stream",
     "text": [
      "10\n",
      "45.0\n"
     ]
    }
   ],
   "source": [
    "sandauga = 1\n",
    "sandauga *= 10\n",
    "print(sandauga)\n",
    "sandauga *= 4.5\n",
    "print(sandauga)"
   ]
  },
  {
   "cell_type": "code",
   "execution_count": 16,
   "metadata": {},
   "outputs": [
    {
     "name": "stdout",
     "output_type": "stream",
     "text": [
      "27\n",
      "19\n",
      "92\n",
      "3\n",
      "5\n",
      "5.75\n"
     ]
    }
   ],
   "source": [
    "#uzduotys 1\n",
    "n_1= 23\n",
    "n_2=4\n",
    "\n",
    "print(n_1+n_2)\n",
    "print(n_1-n_2)\n",
    "print(n_1*n_2)\n",
    "print('dalybos liekana', n_1%n_2)\n",
    "print('sveikoji dalis dalybos', n_1//n_2)\n",
    "print(n_1/n_2)"
   ]
  },
  {
   "cell_type": "code",
   "execution_count": 17,
   "metadata": {},
   "outputs": [
    {
     "name": "stdout",
     "output_type": "stream",
     "text": [
      "27.83\n",
      "18.57\n",
      "107.416\n",
      "dalybos liekana 0.04999999999999982\n",
      "sveikoji dalis dalybos 5.0\n",
      "5.010799136069115\n"
     ]
    }
   ],
   "source": [
    "#uzduotys 1\n",
    "n_1= 23.2\n",
    "n_2=4.63\n",
    "\n",
    "print(n_1+n_2)\n",
    "print(n_1-n_2)\n",
    "print(n_1*n_2)\n",
    "print('dalybos liekana', n_1%n_2)\n",
    "print('sveikoji dalis dalybos', n_1//n_2)\n",
    "print(n_1/n_2)"
   ]
  },
  {
   "cell_type": "code",
   "execution_count": 19,
   "metadata": {},
   "outputs": [
    {
     "name": "stdout",
     "output_type": "stream",
     "text": [
      "<class 'bool'>\n",
      "True\n"
     ]
    }
   ],
   "source": [
    "loginis_kintamasis = True\n",
    "print(type(loginis_kintamasis))\n",
    "print(loginis_kintamasis)"
   ]
  },
  {
   "cell_type": "code",
   "execution_count": 20,
   "metadata": {},
   "outputs": [
    {
     "name": "stdout",
     "output_type": "stream",
     "text": [
      "1\n",
      "0\n"
     ]
    }
   ],
   "source": [
    "print(int(loginis_kintamasis))\n",
    "print(int(False))"
   ]
  },
  {
   "cell_type": "code",
   "execution_count": 4,
   "metadata": {},
   "outputs": [
    {
     "name": "stdout",
     "output_type": "stream",
     "text": [
      "True\n",
      "False\n",
      "False\n",
      "True\n",
      "True\n",
      "True\n",
      "50 == number: True\n",
      "100 == number: True\n",
      "True\n",
      "False\n",
      "True\n"
     ]
    }
   ],
   "source": [
    "number = 50\n",
    "print(10 > 5)\n",
    "print(10 < 5)\n",
    "print(10 < 10)\n",
    "print(10 <= 10)\n",
    "print(10 <= 10)\n",
    "print(10 >= 10)\n",
    "print('50 == number:', 50 == number)\n",
    "print('100 == number:', 50 == 50)\n",
    "print(not 5 > 10) # not - duoda priesinga atsakyma\n",
    "print(not True) \n",
    "print(not False) "
   ]
  },
  {
   "cell_type": "code",
   "execution_count": 7,
   "metadata": {},
   "outputs": [
    {
     "name": "stdout",
     "output_type": "stream",
     "text": [
      "True\n",
      "False\n",
      "True\n"
     ]
    }
   ],
   "source": [
    "print(\"Vilnius\" in 'Vilnius, Kaunas') # in - ar kazkas egzistuoja didesniam dalyke\n",
    "print(\"Klaipeda\" in 'Vilnius, Kaunas')\n",
    "print(\"s\" in 'Vilnius, Kaunas')"
   ]
  },
  {
   "cell_type": "code",
   "execution_count": 9,
   "metadata": {},
   "outputs": [
    {
     "name": "stdout",
     "output_type": "stream",
     "text": [
      "True\n",
      "True\n"
     ]
    }
   ],
   "source": [
    "print(True == 1)\n",
    "print(False == 0)"
   ]
  },
  {
   "cell_type": "code",
   "execution_count": 13,
   "metadata": {},
   "outputs": [
    {
     "name": "stdout",
     "output_type": "stream",
     "text": [
      "True\n",
      "True\n",
      "True\n",
      "True\n",
      "True\n",
      "True\n",
      "True\n"
     ]
    }
   ],
   "source": [
    "print(1==1)\n",
    "print(2>1)\n",
    "print(not 1>2)\n",
    "print(\"a\" in \"abc\")\n",
    "print(bool(12))\n",
    "print(not 's' in 'Lova' and 2>1)\n",
    "print(str(True))\n"
   ]
  },
  {
   "cell_type": "code",
   "execution_count": 15,
   "metadata": {},
   "outputs": [
    {
     "name": "stdout",
     "output_type": "stream",
     "text": [
      "-1.0999999999999996\n"
     ]
    }
   ],
   "source": [
    "float_1 = 2.2\n",
    "float_2 = 3.3\n",
    "print(float_1 - float_2) "
   ]
  },
  {
   "cell_type": "markdown",
   "metadata": {},
   "source": [
    "# NAMU DARBAI 1"
   ]
  },
  {
   "cell_type": "code",
   "execution_count": 29,
   "metadata": {},
   "outputs": [
    {
     "name": "stdout",
     "output_type": "stream",
     "text": [
      "Gertruda Kondrate\n",
      "Mano vardas yra Gertruda, o pavarde Kondrate\n"
     ]
    }
   ],
   "source": [
    "# 1. Atspausdinkite savo vardą ir pavardę viena print() funkcija. Panaudokite du kintamuosius, panaudokite viengubas ir dvigubas kabutes.\n",
    "name = 'Gertruda'\n",
    "surname = \"Kondrate\"\n",
    "print(name, surname)\n",
    "print(f'Mano vardas yra {name}, o pavarde {surname}')"
   ]
  },
  {
   "cell_type": "code",
   "execution_count": 30,
   "metadata": {},
   "outputs": [
    {
     "name": "stdout",
     "output_type": "stream",
     "text": [
      "PYTHON MAKES ME REALLY REALLY HAPPY!\n",
      "PyThOn makes me really really happy!\n"
     ]
    }
   ],
   "source": [
    "# 2. Iš stringo 'Python makes me really really happy!' \n",
    "# Į ekraną išveskite string’ą tik didžiosiomis raidėmis\n",
    "# Pakeiskite žodį Python į PyThOn naudodami replace()\n",
    "text =  'Python makes me really really happy!'\n",
    "print(text.upper())\n",
    "\n",
    "print(text.replace('Python', 'PyThOn'))"
   ]
  },
  {
   "cell_type": "code",
   "execution_count": 28,
   "metadata": {},
   "outputs": [
    {
     "name": "stdout",
     "output_type": "stream",
     "text": [
      "18\n",
      "happy\n",
      "to\n",
      "40\n"
     ]
    }
   ],
   "source": [
    "#3. Iš stringo ‘Hello World, I am happy to learn Python!’\n",
    "#Atspausdinkite ‘happy’ naudodami slice sintaksę. Naudokite  .index(‘happy’), len(‘happy’) tam \n",
    "#Atspausdinkite ‘to’ naudodami slice sintaksę\n",
    "#Koks šio string ilgis?\n",
    "\n",
    "text = 'Hello World, I am happy to learn Python!'\n",
    "print(text.index('happy'))\n",
    "print(text[text.index('happy') : text.index('happy') + len('happy')])\n",
    "\n",
    "print(text[text.index('to') : text.index('to') + len('to')])\n",
    "\n",
    "print(len(text))"
   ]
  },
  {
   "cell_type": "markdown",
   "metadata": {},
   "source": [
    "# NAMU DARBAI 2"
   ]
  },
  {
   "cell_type": "code",
   "execution_count": 33,
   "metadata": {},
   "outputs": [
    {
     "name": "stdout",
     "output_type": "stream",
     "text": [
      "150 km/hours\n",
      "1314000 km/years\n",
      "108000 km/months\n",
      "3600 km/days\n",
      "0.041666666666666664 km/seconds\n",
      "metu: 0.2922374429223744\n",
      "menesiu: 3.5555555555555554\n",
      "dienu: 106.66666666666667\n",
      "sekundziu: 9216000.0\n"
     ]
    }
   ],
   "source": [
    "#1. Jeigu norėtume nuvažiuoti iki mėnulio (384000 km) automobiliu, kurio greitis 150km/h, kiek  valandų. N.d:metų, mėnesių, dienų, sekundžių tai užtruktų?\n",
    "\n",
    "dist_moon = 384000\n",
    "\n",
    "car_speed_h = 150\n",
    "car_speed_y = car_speed_h * 24 * 365\n",
    "car_speed_m = car_speed_h * 24 * 30\n",
    "car_speed_d = car_speed_h * 24 \n",
    "car_speed_s = car_speed_h / 60 / 60 \n",
    "\n",
    "print(car_speed_h, 'km/hours')\n",
    "print(car_speed_y, 'km/years')\n",
    "print(car_speed_m, 'km/months')\n",
    "print(car_speed_d, 'km/days')\n",
    "print(car_speed_s, 'km/seconds')\n",
    "\n",
    "print('metu:', dist_moon/car_speed_y)\n",
    "print('menesiu:', dist_moon/car_speed_m)\n",
    "print('dienu:', dist_moon/car_speed_d)\n",
    "print('sekundziu:', dist_moon/car_speed_s)\n"
   ]
  },
  {
   "cell_type": "code",
   "execution_count": 42,
   "metadata": {},
   "outputs": [
    {
     "name": "stdout",
     "output_type": "stream",
     "text": [
      "1989-07-25\n",
      "2022-02-22\n",
      "Dienu skaicius nuo gimtadienio:11900 days, 0:00:00\n"
     ]
    }
   ],
   "source": [
    "#2. Kiek dienų praėjo nuo jūsų gimimo dienos?\n",
    "import datetime\n",
    "from datetime import date #galima kelti jeigu norim kazko tiksliau\n",
    "\n",
    "birthday = date(1989, 7, 25)\n",
    "today = date.today()\n",
    "print(birthday)\n",
    "print(today)\n",
    "print(f'Dienu skaicius nuo gimtadienio:{today - birthday}')\n",
    "\n"
   ]
  },
  {
   "cell_type": "code",
   "execution_count": 50,
   "metadata": {},
   "outputs": [
    {
     "name": "stdout",
     "output_type": "stream",
     "text": [
      "(1, 5846, 3, 74, 4, 68, 4, 8, 7, 4)\n",
      "(1, 5846, 3, 74, 4, 68, 4, 8, 7)\n",
      "(1, 3, 4, 4, 7, 8, 68, 74, 5846)\n",
      "2\n",
      "5846\n"
     ]
    }
   ],
   "source": [
    "#3.Sudėti du tuple, išimti paskutinį narį iš sudėto tuple, išrikiuoti tuple, suskaičiuoti kiek yra kokios nors reikšmės įvesčių tuple, rasti didžiausią reikšmę.\n",
    "my_tuple = (1,5846,3,74) + (4,68,4,8,7,4)\n",
    "print(my_tuple)\n",
    "my_tuple = my_tuple[:-1] #kaip vienas is variantu \n",
    "print(my_tuple)\n",
    "\n",
    "my_tuple = tuple(sorted(my_tuple)) # sorted pakeicia duomenu tipa. reikia perkeisti atgal\n",
    "print(my_tuple)\n",
    "print(my_tuple.count(4)) # kiek kartojasi\n",
    "print(max(my_tuple)) # rodo didziausia rezultata "
   ]
  }
 ],
 "metadata": {
  "interpreter": {
   "hash": "aee8b7b246df8f9039afb4144a1f6fd8d2ca17a180786b69acc140d282b71a49"
  },
  "kernelspec": {
   "display_name": "Python 3.10.2 64-bit",
   "language": "python",
   "name": "python3"
  },
  "language_info": {
   "codemirror_mode": {
    "name": "ipython",
    "version": 3
   },
   "file_extension": ".py",
   "mimetype": "text/x-python",
   "name": "python",
   "nbconvert_exporter": "python",
   "pygments_lexer": "ipython3",
   "version": "3.10.2"
  },
  "orig_nbformat": 4
 },
 "nbformat": 4,
 "nbformat_minor": 2
}
