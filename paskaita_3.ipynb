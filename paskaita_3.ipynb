{
 "cells": [
  {
   "cell_type": "code",
   "execution_count": 6,
   "metadata": {},
   "outputs": [],
   "source": [
    "cities = ['Vilnius', 'Kaunas', 'Siauliai', 'Marijampole', 'Panevezys', 'Panevezys']\n"
   ]
  },
  {
   "cell_type": "markdown",
   "metadata": {},
   "source": [
    "# FOR CIKLAS"
   ]
  },
  {
   "cell_type": "code",
   "execution_count": 9,
   "metadata": {},
   "outputs": [
    {
     "name": "stdout",
     "output_type": "stream",
     "text": [
      "Sveikiname Vilnius su kazkokia svente\n",
      "pradedam sekancia ciklo iteracija\n",
      "Sveikiname Kaunas su kazkokia svente\n",
      "pradedam sekancia ciklo iteracija\n",
      "Sveikiname Siauliai su kazkokia svente\n",
      "pradedam sekancia ciklo iteracija\n",
      "Sveikiname Marijampole su kazkokia svente\n",
      "pradedam sekancia ciklo iteracija\n",
      "Sveikiname Panevezys su kazkokia svente\n",
      "pradedam sekancia ciklo iteracija\n",
      "Sveikiname Panevezys su kazkokia svente\n",
      "pradedam sekancia ciklo iteracija\n",
      "po ciklo\n"
     ]
    }
   ],
   "source": [
    "for city in cities:\n",
    "    print(f'Sveikiname {city} su kazkokia svente') #butinai keturi tarpeliai\n",
    "    print('pradedam sekancia ciklo iteracija')\n",
    "print('po ciklo')"
   ]
  },
  {
   "cell_type": "code",
   "execution_count": 10,
   "metadata": {},
   "outputs": [
    {
     "name": "stdout",
     "output_type": "stream",
     "text": [
      "1\n",
      "2\n",
      "3\n",
      "4\n",
      "5\n",
      "6\n",
      "7\n",
      "8\n",
      "9\n",
      "10\n"
     ]
    }
   ],
   "source": [
    "# Atspausdinkite pirmus 10 imtinai skaičių naudodami for loop\n",
    "for number in range(1,11):\n",
    "    print(number)"
   ]
  },
  {
   "cell_type": "code",
   "execution_count": 72,
   "metadata": {},
   "outputs": [
    {
     "name": "stdout",
     "output_type": "stream",
     "text": [
      "1275\n"
     ]
    }
   ],
   "source": [
    "# Gaukite sumą pirmų 50 skaičių imtinai\n",
    "suma = 0\n",
    "for number in range(1,51):\n",
    "    suma += number\n",
    "print(suma)\n"
   ]
  },
  {
   "cell_type": "code",
   "execution_count": 16,
   "metadata": {},
   "outputs": [
    {
     "name": "stdout",
     "output_type": "stream",
     "text": [
      "5\n",
      "5 * 1 = 5\n",
      "5 * 2 = 10\n",
      "5 * 3 = 15\n",
      "5 * 4 = 20\n",
      "5 * 5 = 25\n",
      "5 * 6 = 30\n",
      "5 * 7 = 35\n",
      "5 * 8 = 40\n",
      "5 * 9 = 45\n",
      "5 * 10 = 50\n"
     ]
    }
   ],
   "source": [
    "# Leiskite pasirinkti skaičių, atspausdinkite jo sandaugą nuo 1 iki 10 imtinai\n",
    "input_number = int(input('Iveskite skaiciu'))\n",
    "print(input_number)\n",
    "\n",
    "for number in range(1, 11):\n",
    "    print(f'{input_number} * {number} = {input_number * number}')"
   ]
  },
  {
   "cell_type": "code",
   "execution_count": 73,
   "metadata": {},
   "outputs": [
    {
     "name": "stdout",
     "output_type": "stream",
     "text": [
      "[('Pirmadienis', 10), ('Pirmadienis', 11), ('Pirmadienis', 12), ('Pirmadienis', 13), ('Pirmadienis', 14), ('Pirmadienis', 15), ('Pirmadienis', 16), ('Pirmadienis', 17), ('Pirmadienis', 18), ('Pirmadienis', 19), ('Antradienis', 10), ('Antradienis', 11), ('Antradienis', 12), ('Antradienis', 13), ('Antradienis', 14), ('Antradienis', 15), ('Antradienis', 16), ('Antradienis', 17), ('Antradienis', 18), ('Antradienis', 19), ('Treciadienis', 10), ('Treciadienis', 11), ('Treciadienis', 12), ('Treciadienis', 13), ('Treciadienis', 14), ('Treciadienis', 15), ('Treciadienis', 16), ('Treciadienis', 17), ('Treciadienis', 18), ('Treciadienis', 19), ('Ketvirtadienis', 10), ('Ketvirtadienis', 11), ('Ketvirtadienis', 12), ('Ketvirtadienis', 13), ('Ketvirtadienis', 14), ('Ketvirtadienis', 15), ('Ketvirtadienis', 16), ('Ketvirtadienis', 17), ('Ketvirtadienis', 18), ('Ketvirtadienis', 19), ('Penktadienis', 10), ('Penktadienis', 11), ('Penktadienis', 12), ('Penktadienis', 13), ('Penktadienis', 14), ('Penktadienis', 15), ('Penktadienis', 16), ('Penktadienis', 17), ('Penktadienis', 18), ('Penktadienis', 19), ('Sestadienis', 10), ('Sestadienis', 11), ('Sestadienis', 12), ('Sestadienis', 13), ('Sestadienis', 14), ('Sestadienis', 15), ('Sestadienis', 16), ('Sestadienis', 17), ('Sestadienis', 18), ('Sestadienis', 19), ('Sekmadienis', 10), ('Sekmadienis', 11), ('Sekmadienis', 12), ('Sekmadienis', 13), ('Sekmadienis', 14), ('Sekmadienis', 15), ('Sekmadienis', 16), ('Sekmadienis', 17), ('Sekmadienis', 18), ('Sekmadienis', 19)]\n"
     ]
    }
   ],
   "source": [
    "# dienos = ('Pirmadienis', 'Antradienis', 'Treciadienis','Ketvirtadienis', 'Penktadienis', 'Sestadienis' , 'Sekmadienis')\n",
    "# valandos = [10, 11, 12, 13, 14, 15, 16, 17, 18, 19]\n",
    "# Gaukite visas įmanomas kombinacijas iš šių sąrašų, įrašykite jas į list’ą\n",
    "\n",
    "dienos = ('Pirmadienis', 'Antradienis', 'Treciadienis', 'Ketvirtadienis', 'Penktadienis', 'Sestadienis' , 'Sekmadienis')\n",
    "valandos = [10, 11, 12, 13, 14, 15, 16, 17, 18, 19]\n",
    "\n",
    "kombinacijos = []\n",
    "\n",
    "for diena in dienos:\n",
    "    for valanda in valandos:\n",
    "        kombinacijos.append((diena, valanda))\n",
    "        #print(diena, valanda)\n",
    "print(kombinacijos)"
   ]
  },
  {
   "cell_type": "markdown",
   "metadata": {},
   "source": [
    "# IF DEKLARACIJA"
   ]
  },
  {
   "cell_type": "code",
   "execution_count": 74,
   "metadata": {},
   "outputs": [
    {
     "name": "stdout",
     "output_type": "stream",
     "text": [
      "x yra daugiau uz du\n",
      "po if salygos\n"
     ]
    }
   ],
   "source": [
    "# viena if salyga\n",
    "x = 5\n",
    "\n",
    "if x > 2:\n",
    "    print('x yra daugiau uz du')\n",
    "\n",
    "print('po if salygos')"
   ]
  },
  {
   "cell_type": "code",
   "execution_count": 25,
   "metadata": {},
   "outputs": [
    {
     "name": "stdout",
     "output_type": "stream",
     "text": [
      "x nera daugiau uz du\n"
     ]
    }
   ],
   "source": [
    "# atlieka tik viena is salygu\n",
    "x = 0\n",
    "if x > 2:\n",
    "    print('x yra daugiau uz du')\n",
    "else:\n",
    "    print('x nera daugiau uz du')"
   ]
  },
  {
   "cell_type": "code",
   "execution_count": 28,
   "metadata": {},
   "outputs": [
    {
     "name": "stdout",
     "output_type": "stream",
     "text": [
      "atitinka antra elif salyga\n",
      "po if salygos\n"
     ]
    }
   ],
   "source": [
    "# elif galime tureti kiek norim, bet pasileis tik viena\n",
    "x = 0\n",
    "y = 38\n",
    "\n",
    "if x> 10:\n",
    "    print('if salyga atitinka')\n",
    "elif x > 0 and y > 10:\n",
    "    print('atitinka elif salyga')\n",
    "elif x > -5 and y > 30:\n",
    "    print('atitinka antra elif salyga')\n",
    "else:\n",
    "    print('else salyga')\n",
    "\n",
    "print('po if salygos')\n"
   ]
  },
  {
   "cell_type": "code",
   "execution_count": 29,
   "metadata": {},
   "outputs": [
    {
     "name": "stdout",
     "output_type": "stream",
     "text": [
      "3\n",
      "6\n",
      "9\n",
      "12\n",
      "15\n",
      "18\n"
     ]
    }
   ],
   "source": [
    "# Atspausdinkite pirmus 20 skaičių, jeigu jis dalinasi iš 3 be liekanos naudodami for loop ir if\n",
    "for number in range(1, 21):\n",
    "    if number % 3 == 0:\n",
    "        print(number)"
   ]
  },
  {
   "cell_type": "code",
   "execution_count": 75,
   "metadata": {},
   "outputs": [
    {
     "name": "stdout",
     "output_type": "stream",
     "text": [
      "650\n"
     ]
    }
   ],
   "source": [
    "# Gaukite sumą pirmų 50 skaičių imtinai, tik tada, jei nauja einama suma bus lyginė\n",
    "suma = 0\n",
    "for number in range(1, 51):\n",
    "    if (suma + number) % 2 == 0:\n",
    "        suma += number\n",
    "print(suma)"
   ]
  },
  {
   "cell_type": "code",
   "execution_count": 80,
   "metadata": {},
   "outputs": [
    {
     "name": "stdout",
     "output_type": "stream",
     "text": [
      "3\n",
      "3 * 1 = 3\n",
      "3 * 2 = 6\n",
      "3 * 3 = 9\n",
      "3 * 4 = 12\n",
      "3 * 5 = 15\n",
      "3 * 6 = 18\n",
      "3 * 7 = 21\n",
      "3 * 8 = 24\n",
      "3 * 9 = 27\n",
      "3 * 10 = 30\n"
     ]
    }
   ],
   "source": [
    "# Leiskite pasirinkti skaičių, atspausdinkite jo sandaugą nuo 1 iki 10 tik tada, jei pasirinktas skaičius pakeltas kvadratu yra nelyginis\n",
    "input_number = int(input('Iveskite skaiciu'))\n",
    "print(input_number)\n",
    "\n",
    "if (input_number ** 2) % 2 != 0:\n",
    "    for number in range(1, 11):\n",
    "        print(f'{input_number} * {number} = {input_number * number}')\n",
    "else:\n",
    "    print('skaicius pakeltas kvadratu yra lyginis')"
   ]
  },
  {
   "cell_type": "code",
   "execution_count": 81,
   "metadata": {},
   "outputs": [
    {
     "name": "stdout",
     "output_type": "stream",
     "text": [
      "[('Pirmadienis', 12), ('Pirmadienis', 13), ('Pirmadienis', 14), ('Pirmadienis', 15), ('Pirmadienis', 16), ('Pirmadienis', 17), ('Treciadienis', 12), ('Treciadienis', 13), ('Treciadienis', 14), ('Treciadienis', 15), ('Treciadienis', 16), ('Treciadienis', 17)]\n"
     ]
    }
   ],
   "source": [
    "# Gaukite visas įmanomas kombinacijas iš šių sąrašų tik tada, jei diena yra arba pirmadienis arba trečiadienis, o valandos yra nuo 12 iki 17, įrašykite jas į list’ą\n",
    "dienos = ('Pirmadienis', 'Antradienis', 'Treciadienis', 'Ketvirtadienis', 'Penktadienis', 'Sestadienis' , 'Sekmadienis')\n",
    "valandos = [10, 11, 12, 13, 14, 15, 16, 17, 18, 19]\n",
    "\n",
    "darbo_dienos = ['Pirmadienis','Treciadienis']\n",
    "darbo_valandos = list(range(12, 18))\n",
    "kombinacijos = []\n",
    "\n",
    "for diena in dienos:\n",
    "    if diena in darbo_dienos: #jeigu po : turi apatine eilute pajudeti 4 tarpus\n",
    "        for valanda in valandos:\n",
    "            if valanda in darbo_valandos:\n",
    "                kombinacijos.append((diena, valanda))\n",
    "print(kombinacijos)"
   ]
  },
  {
   "cell_type": "markdown",
   "metadata": {},
   "source": [
    "NONE"
   ]
  },
  {
   "cell_type": "code",
   "execution_count": 46,
   "metadata": {},
   "outputs": [
    {
     "name": "stdout",
     "output_type": "stream",
     "text": [
      "None\n",
      "<class 'NoneType'>\n"
     ]
    }
   ],
   "source": [
    "niekas = None\n",
    "print(niekas)\n",
    "print(type(niekas))"
   ]
  },
  {
   "cell_type": "code",
   "execution_count": 48,
   "metadata": {},
   "outputs": [
    {
     "name": "stdout",
     "output_type": "stream",
     "text": [
      "vardas\n"
     ]
    }
   ],
   "source": [
    "name = ''\n",
    "name = input('Irasykite varda')\n",
    "\n",
    "if name:\n",
    "    #pasirasyti none pvz dar is screenshot"
   ]
  },
  {
   "cell_type": "markdown",
   "metadata": {},
   "source": [
    "# LIST COMPREHENSION"
   ]
  },
  {
   "cell_type": "code",
   "execution_count": null,
   "metadata": {},
   "outputs": [],
   "source": [
    "# pasirasyti nuo paskaitos \n"
   ]
  },
  {
   "cell_type": "markdown",
   "metadata": {},
   "source": []
  },
  {
   "cell_type": "markdown",
   "metadata": {},
   "source": []
  },
  {
   "cell_type": "markdown",
   "metadata": {},
   "source": [
    "DICTIONARY"
   ]
  },
  {
   "cell_type": "code",
   "execution_count": null,
   "metadata": {},
   "outputs": [],
   "source": [
    "my_dictionary = {\n",
    "    'name' : 'Gertruda '\n",
    "\n",
    "}"
   ]
  },
  {
   "cell_type": "code",
   "execution_count": 49,
   "metadata": {},
   "outputs": [],
   "source": [
    "my_dictionary = {\n",
    "    'name': 'Gertruda',\n",
    "    'surname': 'Kondrate',\n",
    "    'age': 32,\n",
    "    'hobbies': ['horses', 'games']\n",
    "}"
   ]
  },
  {
   "cell_type": "code",
   "execution_count": 51,
   "metadata": {},
   "outputs": [
    {
     "name": "stdout",
     "output_type": "stream",
     "text": [
      "{'name': 'Gertruda', 'surname': 'Kondrate', 'age': 32, 'hobbies': ['horses', 'games']}\n",
      "<class 'dict'>\n"
     ]
    }
   ],
   "source": [
    "print(my_dictionary)\n",
    "print(type(my_dictionary))"
   ]
  },
  {
   "cell_type": "code",
   "execution_count": 53,
   "metadata": {},
   "outputs": [
    {
     "name": "stdout",
     "output_type": "stream",
     "text": [
      "Gertruda\n",
      "['horses', 'games']\n"
     ]
    }
   ],
   "source": [
    "print(my_dictionary['name'])\n",
    "print(my_dictionary['hobbies'])"
   ]
  },
  {
   "cell_type": "code",
   "execution_count": 54,
   "metadata": {},
   "outputs": [
    {
     "name": "stdout",
     "output_type": "stream",
     "text": [
      "{'name': 'Gertruda', 'surname': 'Kondrate', 'age': 25, 'hobbies': ['horses', 'games']}\n"
     ]
    }
   ],
   "source": [
    "my_dictionary['age'] = 25\n",
    "print(my_dictionary)"
   ]
  },
  {
   "cell_type": "code",
   "execution_count": 55,
   "metadata": {},
   "outputs": [
    {
     "name": "stdout",
     "output_type": "stream",
     "text": [
      "{'name': 'Gertruda', 'surname': 'Kondrate', 'age': 25, 'hobbies': ['horses', 'games'], 'city': 'Vilnius'}\n",
      "5\n"
     ]
    }
   ],
   "source": [
    "my_dictionary['city'] = 'Vilnius'\n",
    "print(my_dictionary)\n",
    "print(len(my_dictionary))"
   ]
  },
  {
   "cell_type": "code",
   "execution_count": null,
   "metadata": {},
   "outputs": [],
   "source": [
    "# my_dictionary is mutable\n",
    "\n",
    "my_dictionary.copy()"
   ]
  },
  {
   "cell_type": "code",
   "execution_count": 58,
   "metadata": {},
   "outputs": [
    {
     "name": "stdout",
     "output_type": "stream",
     "text": [
      "Vilnius\n",
      "no car\n"
     ]
    }
   ],
   "source": [
    "print(my_dictionary.get('city')) #naudojam get kuomet zinom, jog galimai duomenu gali ir nebuti\n",
    "print(my_dictionary.get('car', 'no car')) #no car - parasome, kad nebutu none\n"
   ]
  },
  {
   "cell_type": "code",
   "execution_count": 61,
   "metadata": {},
   "outputs": [
    {
     "name": "stdout",
     "output_type": "stream",
     "text": [
      "{'name': 'Gertruda', 'surname': 'Kondrate', 'age': 25, 'hobbies': ['horses', 'games'], 'city': 'Vilnius', 10: 'desimt'}\n",
      "desimt\n",
      "{'name': 'Gertruda', 'surname': 'Kondrate', 'age': 25, 'hobbies': ['horses', 'games'], 'city': 'Vilnius'}\n"
     ]
    }
   ],
   "source": [
    "my_dictionary[10] = 'desimt'\n",
    "print(my_dictionary)\n",
    "print(my_dictionary.pop(10))\n",
    "print(my_dictionary)"
   ]
  },
  {
   "cell_type": "code",
   "execution_count": 63,
   "metadata": {},
   "outputs": [
    {
     "name": "stdout",
     "output_type": "stream",
     "text": [
      "{'name': 'Gertruda', 'surname': 'Kondrate', 'age': 25, 'hobbies': ['horses', 'games'], None: 'niekas'}\n",
      "{'name': 'Gertruda', 'surname': 'Kondrate', 'age': 25, 'hobbies': ['horses', 'games']}\n",
      "None niekas\n"
     ]
    }
   ],
   "source": [
    "my_dictionary[None] = 'niekas'\n",
    "print(my_dictionary)\n",
    "key, value = my_dictionary.popitem() #sunaikina viena pora ir ja grazina\n",
    "print(my_dictionary)\n",
    "print(key, value)"
   ]
  },
  {
   "cell_type": "code",
   "execution_count": 64,
   "metadata": {},
   "outputs": [],
   "source": [
    "new_dictionary = {\n",
    "    'name': 'Gertruda',\n",
    "    'age': 33,\n",
    "    'hobbies': ['swimming', 'games']\n",
    "}\n",
    "\n",
    "my_dictionary.update(new_dictionary)"
   ]
  },
  {
   "cell_type": "code",
   "execution_count": 65,
   "metadata": {},
   "outputs": [
    {
     "name": "stdout",
     "output_type": "stream",
     "text": [
      "{'name': 'Gertruda', 'surname': 'Kondrate', 'age': 33, 'hobbies': ['swimming', 'games']}\n"
     ]
    }
   ],
   "source": [
    "print(my_dictionary)"
   ]
  },
  {
   "cell_type": "code",
   "execution_count": null,
   "metadata": {},
   "outputs": [],
   "source": [
    "my_dictionary."
   ]
  },
  {
   "cell_type": "code",
   "execution_count": 71,
   "metadata": {},
   "outputs": [],
   "source": [
    "# uzduotys\n",
    "car =\t{\n",
    "  \"brand\": \"Ford\",\n",
    "  \"model\": \"Mustang\",\n",
    "  \"year\": 1964\n",
    "}\n",
    "\n",
    "print"
   ]
  },
  {
   "cell_type": "markdown",
   "metadata": {},
   "source": [
    "# SET DEKLARACIJA"
   ]
  },
  {
   "cell_type": "code",
   "execution_count": 82,
   "metadata": {},
   "outputs": [
    {
     "name": "stdout",
     "output_type": "stream",
     "text": [
      "{1, 2, 3, 4, 5}\n"
     ]
    }
   ],
   "source": [
    "# set'e gali buti tik unikalios reiksmes ir duomenys. Naudojame kuomet kartojasi reiksmes ir mums reikia isvesti unikalias reiksmes. Neturi INDEXU\n",
    "\n",
    "my_set = {1, 2, 3, 4, 5, 5, 5, 5}\n",
    "print(my_set)"
   ]
  },
  {
   "cell_type": "code",
   "execution_count": 84,
   "metadata": {},
   "outputs": [
    {
     "name": "stdout",
     "output_type": "stream",
     "text": [
      "{1, 2, 3, 4, 5, 10, -5}\n"
     ]
    }
   ],
   "source": [
    "my_set.add(10)\n",
    "my_set.add(-5)\n",
    "print(my_set)"
   ]
  },
  {
   "cell_type": "code",
   "execution_count": null,
   "metadata": {},
   "outputs": [],
   "source": [
    "# set is mutable variable\n",
    "my_set.copy()"
   ]
  },
  {
   "cell_type": "code",
   "execution_count": 85,
   "metadata": {},
   "outputs": [
    {
     "name": "stdout",
     "output_type": "stream",
     "text": [
      "{1, 2, 3, 4, 5, 100, 10, -5}\n",
      "{2, 3, 4, 5, 100, 10, -5}\n"
     ]
    }
   ],
   "source": [
    "my_set.add(100)\n",
    "print(my_set)\n",
    "my_set.pop() #pasalina viena nari\n",
    "print(my_set)"
   ]
  },
  {
   "cell_type": "code",
   "execution_count": 87,
   "metadata": {},
   "outputs": [
    {
     "name": "stdout",
     "output_type": "stream",
     "text": [
      "{2, 3, 4, 5, 100, 10, -5}\n",
      "{2, 3, 4, 5, 10, -5}\n"
     ]
    }
   ],
   "source": [
    "my_set.add(100) \n",
    "print(my_set)\n",
    "my_set.remove(100) #istrina nurodyta nari. Galima naudoti tik karta, kitaip mes error\n",
    "print(my_set)\n"
   ]
  },
  {
   "cell_type": "code",
   "execution_count": 91,
   "metadata": {},
   "outputs": [
    {
     "name": "stdout",
     "output_type": "stream",
     "text": [
      "{2, 3, 4, 5, 10, -5}\n",
      "{2, 3, 4, 5, 10}\n"
     ]
    }
   ],
   "source": [
    "print(my_set)\n",
    "my_set.discard(100) # istrina nurodyti nari. Galima naudoti daugiau kartu\n",
    "my_set.discard(-5)\n",
    "my_set.discard(-5)\n",
    "print(my_set)"
   ]
  },
  {
   "cell_type": "code",
   "execution_count": 92,
   "metadata": {},
   "outputs": [
    {
     "name": "stdout",
     "output_type": "stream",
     "text": [
      "{65, 2, 3, 4, 5, 41, 10, 15, 30}\n"
     ]
    }
   ],
   "source": [
    "my_set.update([15, 30, 41, 65]) # pridedame atsitiktinai\n",
    "print(my_set)"
   ]
  },
  {
   "cell_type": "code",
   "execution_count": 94,
   "metadata": {},
   "outputs": [
    {
     "name": "stdout",
     "output_type": "stream",
     "text": [
      "9 in my set: False\n",
      "30 in my set: True\n"
     ]
    }
   ],
   "source": [
    "print('9 in my set:', 9 in my_set)\n",
    "print('30 in my set:', 30 in my_set)"
   ]
  },
  {
   "cell_type": "code",
   "execution_count": 103,
   "metadata": {},
   "outputs": [
    {
     "name": "stdout",
     "output_type": "stream",
     "text": [
      "{8, 1, 2}\n",
      "{5, 6}\n",
      "{1, 2, 4, 5, 6, 7, 8, 10, 11}\n",
      "False\n",
      "False\n"
     ]
    }
   ],
   "source": [
    "my_set_1 = {1,2,5,6,8}\n",
    "my_set_2 = {4,5,6,7,10,11}\n",
    "\n",
    "print(my_set_1.difference(my_set_2)) #kuo skiriasi du set'ai \n",
    "print(my_set_1.intersection(my_set_2))\n",
    "print(my_set_1.union(my_set_2)) #apjungia i viena bendra set'a\n",
    "print(my_set_1.issubset(my_set_2)) #ar pirmo set'o visi nariai yra set'e su kuriuo lyginame\n",
    "print(my_set_2.issuperset(my_set_1)) #atvirksciai lygina"
   ]
  },
  {
   "cell_type": "code",
   "execution_count": 107,
   "metadata": {},
   "outputs": [
    {
     "name": "stdout",
     "output_type": "stream",
     "text": [
      "{'apple', ('nauja_reiksme', 5), 'cherry', 'banana'}\n"
     ]
    }
   ],
   "source": [
    "# uzduotys\n",
    "\n",
    "fruits = {\"apple\", \"banana\", \"cherry\"}\n",
    "fruits.add(('nauja_reiksme', 5))\n",
    "\n",
    "print(fruits)"
   ]
  },
  {
   "cell_type": "code",
   "execution_count": 108,
   "metadata": {},
   "outputs": [
    {
     "name": "stdout",
     "output_type": "stream",
     "text": [
      "{'cherry', 'watermelon', 'banana'}\n"
     ]
    }
   ],
   "source": [
    "# uzduotys\n",
    "fruits = {\"apple\", \"banana\", \"cherry\"}\n",
    "fruits.remove(\"apple\")\n",
    "fruits.add(\"watermelon\")\n",
    "print(fruits)"
   ]
  },
  {
   "cell_type": "code",
   "execution_count": 116,
   "metadata": {},
   "outputs": [
    {
     "name": "stdout",
     "output_type": "stream",
     "text": [
      "{'banana', 'lemon', 'orange', 'apple', 'cherry', 'mango', 'kiwi', 'watermelon'}\n",
      "{'banana', 'lemon', 'orange', 'cherry', 'mango', 'kiwi', 'watermelon'}\n",
      "7\n"
     ]
    }
   ],
   "source": [
    "# uzduotys\n",
    "fruits = {\"apple\", \"banana\", \"cherry\"}\n",
    "fruits.add(\"watermelon\")\n",
    "fruits.update(['kiwi', 'orange', 'cherry', 'mango', 'lemon'])\n",
    "print(fruits)\n",
    "fruits.discard(\"apple\")\n",
    "print(fruits)\n",
    "print(len(fruits))\n"
   ]
  }
 ],
 "metadata": {
  "interpreter": {
   "hash": "397704579725e15f5c7cb49fe5f0341eb7531c82d19f2c29d197e8b64ab5776b"
  },
  "kernelspec": {
   "display_name": "Python 3.9.10 64-bit",
   "language": "python",
   "name": "python3"
  },
  "language_info": {
   "codemirror_mode": {
    "name": "ipython",
    "version": 3
   },
   "file_extension": ".py",
   "mimetype": "text/x-python",
   "name": "python",
   "nbconvert_exporter": "python",
   "pygments_lexer": "ipython3",
   "version": "3.9.10"
  },
  "orig_nbformat": 4
 },
 "nbformat": 4,
 "nbformat_minor": 2
}
